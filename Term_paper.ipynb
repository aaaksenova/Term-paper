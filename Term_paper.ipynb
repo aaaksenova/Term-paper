{
 "cells": [
  {
   "cell_type": "markdown",
   "metadata": {},
   "source": [
    "# Курсовая работа"
   ]
  },
  {
   "cell_type": "markdown",
   "metadata": {},
   "source": [
    "Импорт библиотек"
   ]
  },
  {
   "cell_type": "code",
   "execution_count": 4,
   "metadata": {
    "collapsed": true
   },
   "outputs": [],
   "source": [
    "import re, math, codecs, os"
   ]
  },
  {
   "cell_type": "code",
   "execution_count": 5,
   "metadata": {
    "collapsed": true
   },
   "outputs": [],
   "source": [
    "from pprint import pprint\n",
    "import numpy as np"
   ]
  },
  {
   "cell_type": "code",
   "execution_count": 6,
   "metadata": {
    "collapsed": true
   },
   "outputs": [],
   "source": [
    "import gensim\n",
    "from gensim.models import word2vec\n",
    "from gensim.models import Word2Vec"
   ]
  },
  {
   "cell_type": "markdown",
   "metadata": {},
   "source": [
    "Подключение модели"
   ]
  },
  {
   "cell_type": "code",
   "execution_count": 7,
   "metadata": {
    "collapsed": true
   },
   "outputs": [],
   "source": [
    "m = \"to.bin\""
   ]
  },
  {
   "cell_type": "code",
   "execution_count": 8,
   "metadata": {
    "collapsed": true
   },
   "outputs": [],
   "source": [
    "model = gensim.models.KeyedVectors.load_word2vec_format(m, binary=True, unicode_errors='ignore')"
   ]
  },
  {
   "cell_type": "markdown",
   "metadata": {},
   "source": [
    "Считывание предложений из файла"
   ]
  },
  {
   "cell_type": "code",
   "execution_count": 9,
   "metadata": {
    "collapsed": true
   },
   "outputs": [],
   "source": [
    "def cos(vA, vB):\n",
    "    cos = np.dot(vA, vB) / (np.sqrt(np.dot(vA,vA)) * np.sqrt(np.dot(vB,vB)))\n",
    "    return cos"
   ]
  },
  {
   "cell_type": "code",
   "execution_count": 10,
   "metadata": {
    "collapsed": true
   },
   "outputs": [],
   "source": [
    "info = []\n",
    "words = []\n",
    "final = []\n",
    "with open('sentences.txt') as fh:\n",
    "    sentences = fh.readlines()\n",
    "for sentence in sentences:\n",
    "    sentence.strip()\n",
    "    sentence = sentence.split()\n",
    "    count = 0\n",
    "    for word in sentence:\n",
    "        info.append(word)\n",
    "        if len(info) == 3:\n",
    "            words.append(info)\n",
    "            info = []\n",
    "    final.append(words)\n",
    "    words = []"
   ]
  },
  {
   "cell_type": "markdown",
   "metadata": {},
   "source": [
    "## Подсчет близости слов справа и слева"
   ]
  },
  {
   "cell_type": "code",
   "execution_count": 11,
   "metadata": {},
   "outputs": [
    {
     "name": "stdout",
     "output_type": "stream",
     "text": [
      "\"word 'летесть' not in vocabulary\"\n",
      "\"word 'эсэмэску' not in vocabulary\"\n",
      "\"word 'эсэмэску' not in vocabulary\"\n",
      "\"word 'биоресурсы' not in vocabulary\"\n",
      "\"word 'амфимиксис' not in vocabulary\"\n",
      "\"word 'двухипостасный' not in vocabulary\"\n",
      "\"word 'лазебной' not in vocabulary\"\n",
      "\"word 'усмановна' not in vocabulary\"\n",
      "\"word 'шурупский' not in vocabulary\"\n",
      "\"word 'трлн' not in vocabulary\"\n",
      "\"word 'тераэлектрон' not in vocabulary\"\n",
      "\"word 'брейвик' not in vocabulary\"\n",
      "\"word 'сабетта' not in vocabulary\"\n",
      "\"word 'барбей' not in vocabulary\"\n",
      "\"word 'натрехмерный' not in vocabulary\"\n",
      "\"word 'доносилва' not in vocabulary\"\n",
      "\"word 'трлн' not in vocabulary\"\n",
      "\"word 'обывателиус' not in vocabulary\"\n",
      "\"word 'пушкарная' not in vocabulary\"\n",
      "\"word 'губпросвет' not in vocabulary\"\n",
      "\"word 'вучик' not in vocabulary\"\n",
      "\"word 'троллят' not in vocabulary\"\n",
      "\"word 'трлн' not in vocabulary\"\n",
      "\"word 'менгхин' not in vocabulary\"\n",
      "\"word 'полож' not in vocabulary\"\n",
      "\"word 'пильганова' not in vocabulary\"\n",
      "\"word 'фейстоп' not in vocabulary\"\n",
      "\"word 'экзотоксикант' not in vocabulary\"\n",
      "\"word 'дерибрюхово' not in vocabulary\"\n",
      "\"word 'параундир' not in vocabulary\"\n",
      "\"word 'уранопитек' not in vocabulary\"\n",
      "\"word 'экзометеоролог' not in vocabulary\"\n",
      "\"word 'петершуля' not in vocabulary\"\n",
      "\"word 'алармистический' not in vocabulary\"\n",
      "\"word 'псевдопедагог' not in vocabulary\"\n",
      "\"word 'фирсач' not in vocabulary\"\n",
      "\"word 'митров' not in vocabulary\"\n",
      "\"word 'курехинреагировать' not in vocabulary\"\n",
      "\"word 'позалучье' not in vocabulary\"\n",
      "\"word 'мухаджрун' not in vocabulary\"\n",
      "\"word 'агаритянин' not in vocabulary\"\n",
      "\"word 'кукоцкая' not in vocabulary\"\n",
      "\"word 'пащенкова' not in vocabulary\"\n",
      "\"word 'финансиализация' not in vocabulary\"\n",
      "\"word 'токуся' not in vocabulary\"\n",
      "\"word 'ходзин' not in vocabulary\"\n",
      "\"word 'юдокоторое' not in vocabulary\"\n",
      "\"word 'этовидный' not in vocabulary\"\n",
      "\"word 'маселла' not in vocabulary\"\n",
      "\"word 'элегр' not in vocabulary\"\n",
      "\"word 'философиии' not in vocabulary\"\n",
      "\"word 'фармакогенетический' not in vocabulary\"\n",
      "\"word 'филаретоеский' not in vocabulary\"\n",
      "\"word 'пильганова' not in vocabulary\"\n",
      "\"word 'лазебной' not in vocabulary\"\n",
      "\"word 'полулюбить' not in vocabulary\"\n",
      "\"word 'найтовочный' not in vocabulary\"\n",
      "\"word 'иусаживаться' not in vocabulary\"\n",
      "\"word 'мефодичев' not in vocabulary\"\n",
      "\"word 'митров' not in vocabulary\"\n",
      "\"word 'зався' not in vocabulary\"\n",
      "\"word 'коновкова' not in vocabulary\"\n",
      "\"word 'несформировываться' not in vocabulary\"\n",
      "\"word 'нератифицировать' not in vocabulary\"\n",
      "\"word 'метреветь' not in vocabulary\"\n",
      "\"word 'галемзян' not in vocabulary\"\n",
      "\"word 'кернтерьер' not in vocabulary\"\n",
      "\"word 'хистория' not in vocabulary\"\n",
      "\"word 'нефтина' not in vocabulary\"\n",
      "\"word 'курмышов' not in vocabulary\"\n",
      "\"word 'чзы' not in vocabulary\"\n"
     ]
    }
   ],
   "source": [
    "similar_words = []\n",
    "for sentence in final:\n",
    "    left_list = []\n",
    "    best = -100\n",
    "    ind = 0\n",
    "    for word in sentence:\n",
    "        if word[0] == 'тоесть':\n",
    "            ind = 1 # Индикатор было ли то есть\n",
    "            continue\n",
    "        if not ind:\n",
    "            pass\n",
    "            try:\n",
    "                left_list.append(model.wv[word[1]]) # Собираем список векторов левого контекста\n",
    "            except Exception as e:\n",
    "                print(e)\n",
    "        elif ind:\n",
    "            try:\n",
    "                right = model.wv[word[1]]\n",
    "                for vector in left_list:\n",
    "                    best = max(best, cos(vector, right)) # Максимальное значение косинусной близости пар слов\n",
    "            except Exception as e:\n",
    "                continue\n",
    "#                print(e)\n",
    "    similar_words.append(best)"
   ]
  },
  {
   "cell_type": "code",
   "execution_count": 75,
   "metadata": {},
   "outputs": [],
   "source": [
    "with open('word_sim.txt', 'w') as fw:\n",
    "    for i in similar_words:\n",
    "        fw.write(str(i))\n",
    "        fw.write('\\n')"
   ]
  },
  {
   "cell_type": "code",
   "execution_count": 76,
   "metadata": {},
   "outputs": [
    {
     "data": {
      "text/plain": [
       "[1.0000001, 0.26468626, 0.60758865, 0.62836206, 1.0000001]"
      ]
     },
     "execution_count": 76,
     "metadata": {},
     "output_type": "execute_result"
    }
   ],
   "source": [
    "similar_words[:5]"
   ]
  },
  {
   "cell_type": "markdown",
   "metadata": {},
   "source": [
    "## Кусочек кода для подсчета близости контекстов справа и слева"
   ]
  },
  {
   "cell_type": "code",
   "execution_count": 12,
   "metadata": {},
   "outputs": [
    {
     "name": "stdout",
     "output_type": "stream",
     "text": [
      "\"word 'летесть' not in vocabulary\"\n",
      "\"word 'эсэмэску' not in vocabulary\"\n",
      "\"word 'эсэмэску' not in vocabulary\"\n",
      "\"word 'биоресурсы' not in vocabulary\"\n",
      "\"word 'амфимиксис' not in vocabulary\"\n",
      "\"word 'двухипостасный' not in vocabulary\"\n",
      "\"word 'лазебной' not in vocabulary\"\n",
      "\"word 'усмановна' not in vocabulary\"\n",
      "\"word 'шурупский' not in vocabulary\"\n",
      "\"word 'трлн' not in vocabulary\"\n",
      "\"word 'тераэлектрон' not in vocabulary\"\n",
      "\"word 'брейвик' not in vocabulary\"\n",
      "\"word 'сабетта' not in vocabulary\"\n",
      "\"word 'барбей' not in vocabulary\"\n",
      "\"word 'натрехмерный' not in vocabulary\"\n",
      "\"word 'доносилва' not in vocabulary\"\n",
      "\"word 'трлн' not in vocabulary\"\n",
      "\"word 'обывателиус' not in vocabulary\"\n",
      "\"word 'пушкарная' not in vocabulary\"\n",
      "\"word 'губпросвет' not in vocabulary\"\n",
      "\"word 'вучик' not in vocabulary\"\n",
      "\"word 'троллят' not in vocabulary\"\n",
      "\"word 'трлн' not in vocabulary\"\n",
      "\"word 'менгхин' not in vocabulary\"\n",
      "\"word 'полож' not in vocabulary\"\n",
      "\"word 'пильганова' not in vocabulary\"\n",
      "\"word 'фейстоп' not in vocabulary\"\n",
      "\"word 'экзотоксикант' not in vocabulary\"\n",
      "\"word 'дерибрюхово' not in vocabulary\"\n",
      "\"word 'параундир' not in vocabulary\"\n",
      "\"word 'уранопитек' not in vocabulary\"\n",
      "\"word 'экзометеоролог' not in vocabulary\"\n",
      "\"word 'петершуля' not in vocabulary\"\n",
      "\"word 'алармистический' not in vocabulary\"\n",
      "\"word 'псевдопедагог' not in vocabulary\"\n",
      "\"word 'фирсач' not in vocabulary\"\n",
      "\"word 'митров' not in vocabulary\"\n",
      "\"word 'курехинреагировать' not in vocabulary\"\n",
      "\"word 'позалучье' not in vocabulary\"\n",
      "\"word 'мухаджрун' not in vocabulary\"\n",
      "\"word 'агаритянин' not in vocabulary\"\n",
      "\"word 'кукоцкая' not in vocabulary\"\n",
      "\"word 'пащенкова' not in vocabulary\"\n",
      "\"word 'финансиализация' not in vocabulary\"\n",
      "\"word 'токуся' not in vocabulary\"\n",
      "\"word 'ходзин' not in vocabulary\"\n",
      "\"word 'юдокоторое' not in vocabulary\"\n",
      "\"word 'этовидный' not in vocabulary\"\n",
      "\"word 'маселла' not in vocabulary\"\n",
      "\"word 'элегр' not in vocabulary\"\n",
      "\"word 'философиии' not in vocabulary\"\n",
      "\"word 'фармакогенетический' not in vocabulary\"\n",
      "\"word 'филаретоеский' not in vocabulary\"\n",
      "\"word 'пильганова' not in vocabulary\"\n",
      "\"word 'лазебной' not in vocabulary\"\n",
      "\"word 'полулюбить' not in vocabulary\"\n",
      "\"word 'найтовочный' not in vocabulary\"\n",
      "\"word 'иусаживаться' not in vocabulary\"\n",
      "\"word 'мефодичев' not in vocabulary\"\n",
      "\"word 'митров' not in vocabulary\"\n",
      "\"word 'зався' not in vocabulary\"\n",
      "\"word 'коновкова' not in vocabulary\"\n",
      "\"word 'несформировываться' not in vocabulary\"\n",
      "\"word 'нератифицировать' not in vocabulary\"\n",
      "\"word 'метреветь' not in vocabulary\"\n",
      "\"word 'галемзян' not in vocabulary\"\n",
      "\"word 'кернтерьер' not in vocabulary\"\n",
      "\"word 'хистория' not in vocabulary\"\n",
      "\"word 'нефтина' not in vocabulary\"\n",
      "\"word 'курмышов' not in vocabulary\"\n",
      "\"word 'чзы' not in vocabulary\"\n"
     ]
    }
   ],
   "source": [
    "sentence_counts = []\n",
    "for sentence in final:\n",
    "    left_sum = 0\n",
    "    right_sum = 0\n",
    "    count_l = 0\n",
    "    count_r = 0\n",
    "    ind = 0\n",
    "    for word in sentence:\n",
    "        if word[0] == 'тоесть':\n",
    "            ind = 1 # Индикатор было ли то есть\n",
    "            continue\n",
    "        if not ind:\n",
    "            pass\n",
    "            try:\n",
    "                count_l += 1\n",
    "                left_sum += model.wv[word[1]] # Складываем слова слева\n",
    "            except Exception as e:\n",
    "                print(e)\n",
    "        elif ind:\n",
    "            try:\n",
    "                count_r += 1\n",
    "                right_sum += model.wv[word[1]] # Складываем слова справа\n",
    "            except Exception as e:\n",
    "                continue\n",
    "#                print(e)\n",
    "    if count_l != 0 and count_r != 0:\n",
    "        count = (left_sum / count_l, right_sum / count_l)\n",
    "        sentence_counts.append(count)\n",
    "    else:\n",
    "        count = (left_sum, right_sum)\n",
    "        sentence_counts.append(count)        "
   ]
  },
  {
   "cell_type": "code",
   "execution_count": 13,
   "metadata": {},
   "outputs": [
    {
     "name": "stderr",
     "output_type": "stream",
     "text": [
      "/usr/local/lib/python3.5/dist-packages/ipykernel_launcher.py:2: RuntimeWarning: invalid value encountered in true_divide\n",
      "  \n"
     ]
    }
   ],
   "source": [
    "count = 1\n",
    "sim = []\n",
    "for i in sentence_counts:\n",
    "    sim.append([count, cos(i[0], i[1])])\n",
    "    count += 1"
   ]
  },
  {
   "cell_type": "code",
   "execution_count": 14,
   "metadata": {
    "collapsed": true
   },
   "outputs": [],
   "source": [
    "# Есть случаи, когда один из контекстов не определен\n",
    "for i in sim:\n",
    "    if isinstance(i[1], np.ndarray):\n",
    "        i[1] = 0"
   ]
  },
  {
   "cell_type": "code",
   "execution_count": 15,
   "metadata": {},
   "outputs": [
    {
     "name": "stdout",
     "output_type": "stream",
     "text": [
      "1000\n"
     ]
    }
   ],
   "source": [
    "print(len(sim))\n",
    "sorted_sim = sorted(sim, key=lambda x: x[1], reverse=True)"
   ]
  },
  {
   "cell_type": "code",
   "execution_count": 16,
   "metadata": {
    "collapsed": true
   },
   "outputs": [],
   "source": [
    "# Запишем все в файл, чтобы работать с ним на локальном компьютере\n",
    "with open('part_sim.txt', 'w') as fw:\n",
    "    for i in sorted_sim:\n",
    "        a, b = i\n",
    "        fw.write(str(a) + ' ' + str(b) + '\\n')"
   ]
  },
  {
   "cell_type": "markdown",
   "metadata": {},
   "source": [
    "## Средние векторы по каждому типу значения"
   ]
  },
  {
   "cell_type": "code",
   "execution_count": 17,
   "metadata": {
    "collapsed": true
   },
   "outputs": [],
   "source": [
    "# Вектор - сумма векторов слов\n",
    "context = [sum(i) for i in sentence_counts]"
   ]
  },
  {
   "cell_type": "code",
   "execution_count": 18,
   "metadata": {},
   "outputs": [
    {
     "name": "stdout",
     "output_type": "stream",
     "text": [
      "1000\n"
     ]
    }
   ],
   "source": [
    "# Скачиваем разметку\n",
    "with open('Разметка.txt') as fh:\n",
    "    tags = list(map(lambda l: l.strip(), fh.readlines()))\n",
    "print(len(tags))"
   ]
  },
  {
   "cell_type": "code",
   "execution_count": 19,
   "metadata": {
    "collapsed": true
   },
   "outputs": [],
   "source": [
    "from collections import Counter"
   ]
  },
  {
   "cell_type": "code",
   "execution_count": 20,
   "metadata": {},
   "outputs": [
    {
     "data": {
      "text/plain": [
       "Counter({'дискурс': 12,\n",
       "         'дополнение': 83,\n",
       "         'интерпретация': 234,\n",
       "         'коррекция': 40,\n",
       "         'модальность': 2,\n",
       "         'обобщение': 51,\n",
       "         'обр определение': 4,\n",
       "         'определение': 81,\n",
       "         'переспрос': 7,\n",
       "         'переспрос инт': 49,\n",
       "         'переспрос как': 7,\n",
       "         'переформулирование': 109,\n",
       "         'пример': 8,\n",
       "         'следствие': 258,\n",
       "         'спецификация': 55})"
      ]
     },
     "execution_count": 20,
     "metadata": {},
     "output_type": "execute_result"
    }
   ],
   "source": [
    "unique = Counter(tags)\n",
    "unique"
   ]
  },
  {
   "cell_type": "code",
   "execution_count": 21,
   "metadata": {
    "collapsed": true,
    "scrolled": false
   },
   "outputs": [],
   "source": [
    "# Находим средние вектора\n",
    "average = {}\n",
    "for x, y in zip(tags, context):\n",
    "    if x not in average.keys():\n",
    "        average[x] = 0\n",
    "    average[x] += y\n",
    "for name, count in unique.items():\n",
    "    average[name] /= count    "
   ]
  },
  {
   "cell_type": "code",
   "execution_count": 22,
   "metadata": {
    "collapsed": true
   },
   "outputs": [],
   "source": [
    "from pymystem3 import Mystem\n",
    "m = Mystem()"
   ]
  },
  {
   "cell_type": "code",
   "execution_count": 23,
   "metadata": {
    "collapsed": true
   },
   "outputs": [],
   "source": [
    "# Это функция для парсинга предложения\n",
    "def vectorise(item):\n",
    "    item = re.sub('[Тт]о есть', 'тоесть', item)\n",
    "    punctuation = (list(\"\"\",;:”$%^&*№()_—=+!...?|[]{}\\\"/<>`~±§«»°1234567890.\"\"\")\n",
    "               + ['- ', ' -', ' - ', '― ', ' ―', ' ― ', \" '\", \"' \"])\n",
    "    item = item.lower()\n",
    "    for char in punctuation:\n",
    "        item = item.replace(char, ' ')\n",
    "    item = item.strip()\n",
    "    lemmas = m.lemmatize(item)\n",
    "    vector = 0\n",
    "    for word in lemmas:\n",
    "        if word != 'тоедать' and ' ' not in word:\n",
    "            try:\n",
    "                vector+=model.wv[word]\n",
    "            except Exception as e:\n",
    "                pass\n",
    "    return vector"
   ]
  },
  {
   "cell_type": "code",
   "execution_count": 24,
   "metadata": {
    "collapsed": true
   },
   "outputs": [],
   "source": [
    "# Это функция для подсчета близости к типам значения\n",
    "def find_type(sentence):\n",
    "    vector = vectorise(sentence) # Превращаем предложение в вектор\n",
    "    types = []\n",
    "    for key in average.keys():\n",
    "        types.append((key, cos(average[key], vector))) # Считаем близость нашего вектора и вектора-прототипа\n",
    "    types = sorted(types, reverse=True, key=lambda x: float(x[1])) # Сортируем\n",
    "    return types"
   ]
  },
  {
   "cell_type": "markdown",
   "metadata": {},
   "source": [
    "## Оценка предсказательной силы"
   ]
  },
  {
   "cell_type": "code",
   "execution_count": 25,
   "metadata": {
    "collapsed": true
   },
   "outputs": [],
   "source": [
    "with open('examples.txt') as fh:\n",
    "    lines = fh.readlines()"
   ]
  },
  {
   "cell_type": "code",
   "execution_count": 26,
   "metadata": {},
   "outputs": [
    {
     "name": "stdout",
     "output_type": "stream",
     "text": [
      "['%дискурс\\n',\n",
      " 'А вот о возможностях фото и видео контента стоит рассказать немного '\n",
      " 'подробнее. </s> <s> То есть в том понимании, как видит все это наша студия и '\n",
      " 'ее сотрудники. !\\n',\n",
      " 'В этот день Якопо Бельбо глядел в глаза Истине … И это, то есть мгновение, '\n",
      " 'когда он затормозил пространство и время !\\n',\n",
      " 'Раз предлагал даже зайти в ближайший салон связи, купить ей телефон и только '\n",
      " 'оставить свой - то есть перезвонила бы если захотела .. !\\n',\n",
      " '―\\xa0Нам\\xa0нужно,\\xa0чтоб\\xa0нас\\xa0всех\\xa0черти\\xa0разорвали… То есть, '\n",
      " 'черт возьми, я говорю, чтоб, тысяча чертей, тысяча залпов вам в задницу… '\n",
      " 'черт!  [Митьки. Папуас из Гондураса (1987)] [омонимия не снята] !\\n']\n"
     ]
    }
   ],
   "source": [
    "pprint(lines[:5])"
   ]
  },
  {
   "cell_type": "code",
   "execution_count": 27,
   "metadata": {
    "collapsed": true
   },
   "outputs": [],
   "source": [
    "meanings = {}\n",
    "for line in lines:\n",
    "    if line.startswith('%'): # В файле идет название значения, а потом примеры на него\n",
    "        line = line.strip()\n",
    "        line = line.strip('%')\n",
    "        key = line\n",
    "        meanings[key] = []\n",
    "    else:\n",
    "        line = line.strip()\n",
    "        line = line.replace(u'\\xa0', ' ')\n",
    "        line = re.sub('\\[.+?\\]', '', line)\n",
    "        line = re.sub('\\<.+?\\>', '', line)\n",
    "        meanings[key].append(line)"
   ]
  },
  {
   "cell_type": "code",
   "execution_count": 28,
   "metadata": {},
   "outputs": [
    {
     "data": {
      "text/plain": [
       "['А вот о возможностях фото и видео контента стоит рассказать немного подробнее.   То есть в том понимании, как видит все это наша студия и ее сотрудники. !',\n",
       " 'В этот день Якопо Бельбо глядел в глаза Истине … И это, то есть мгновение, когда он затормозил пространство и время !',\n",
       " 'Раз предлагал даже зайти в ближайший салон связи, купить ей телефон и только оставить свой - то есть перезвонила бы если захотела .. !',\n",
       " '― Нам нужно, чтоб нас всех черти разорвали… То есть, черт возьми, я говорю, чтоб, тысяча чертей, тысяча залпов вам в задницу… черт!    !',\n",
       " 'Правой рукой он обнял, тоже распотевшего ираскрасневшегося, кума Селивана и о чем-то горячо рассуждал с ним. Сердце у бабы замерло: «запил» мелькнуло у нее в голове, и ноги ее подкосились.  ― То есть… я тебе говорю… во всякое время… и больше ничего…   ',\n",
       " '― И не «сливайтесь»!  То есть, я вам скажу!..   Он ухватился обеими руками за голову. !',\n",
       " 'Для вас.. для маменьки вашей…  То есть, господи, боже мой!   И снова начиналось целование рук, даже кофты, в которую была одета Надя. !',\n",
       " 'Катерина Ивановна (немного вспыхнув) . Что это значит?  Что вы хотите сказать?.. Как присмотрелась?.. Арина Федотьевна. То есть… так…  Ничего вам этакого в нем не блеснуло?..   ',\n",
       " 'Все про это уж… то есть известны…',\n",
       " 'Директор V тоже был токарем, правда, совсем недолго, но без этого нельзя ж, если не быть и токарем, и одновременно чуть-чуть актером, никогда не станешь… ну, то есть. Вот ты мне скажи, вот ты человек молодой, а почему в офис не пошел, там же больше платят?']"
      ]
     },
     "execution_count": 28,
     "metadata": {},
     "output_type": "execute_result"
    }
   ],
   "source": [
    "meanings['дискурс']"
   ]
  },
  {
   "cell_type": "code",
   "execution_count": 29,
   "metadata": {
    "collapsed": true
   },
   "outputs": [],
   "source": [
    "median_prediction = []\n",
    "for key, sentences in meanings.items():\n",
    "    position = []\n",
    "    for sentence in sentences:\n",
    "        types = find_type(sentence) # Ищем ранжирование типов по каждому предложению\n",
    "        for i in range(1, len(types)+1):\n",
    "            if types[i-1][0] == key: # Запоминаем позицию нужного\n",
    "                position.append(i)\n",
    "    median_prediction.append((key, np.median(position))) # Собираем медианы предсказаний"
   ]
  },
  {
   "cell_type": "markdown",
   "metadata": {},
   "source": [
    "Получается, что лучше всего программа ловит дискурсивные значения *то есть*, а не союзные"
   ]
  },
  {
   "cell_type": "code",
   "execution_count": 30,
   "metadata": {},
   "outputs": [
    {
     "data": {
      "text/plain": [
       "[('коррекция', 1.0),\n",
       " ('переспрос', 2.0),\n",
       " ('следствие', 3.0),\n",
       " ('определение', 3.0),\n",
       " ('переспрос инт', 4.0),\n",
       " ('дополнение', 4.0),\n",
       " ('переформулирование', 4.0),\n",
       " ('дискурс', 4.0),\n",
       " ('интерпретация', 6.0),\n",
       " ('пример', 6.5),\n",
       " ('спецификация', 7.0),\n",
       " ('обобщение', 8.0),\n",
       " ('переспрос как', 12.0)]"
      ]
     },
     "execution_count": 30,
     "metadata": {},
     "output_type": "execute_result"
    }
   ],
   "source": [
    "median_prediction = sorted(median_prediction, key=lambda x: x[1])\n",
    "median_prediction"
   ]
  },
  {
   "cell_type": "markdown",
   "metadata": {},
   "source": [
    "## Попробуем сравнить ожидания и реальность..."
   ]
  },
  {
   "cell_type": "code",
   "execution_count": 31,
   "metadata": {
    "collapsed": true
   },
   "outputs": [],
   "source": [
    "sentence = 'И здесь соблюдалась полная демократия, то есть картину отбирал по своему вкусу очередной дежурный '"
   ]
  },
  {
   "cell_type": "markdown",
   "metadata": {},
   "source": [
    "Это был пример следствия"
   ]
  },
  {
   "cell_type": "code",
   "execution_count": 32,
   "metadata": {},
   "outputs": [
    {
     "data": {
      "text/plain": [
       "[('дополнение', 0.49646387),\n",
       " ('переформулирование', 0.49464464),\n",
       " ('следствие', 0.47175238),\n",
       " ('переспрос инт', 0.44966534),\n",
       " ('спецификация', 0.43783745),\n",
       " ('интерпретация', 0.428271),\n",
       " ('пример', 0.42404312),\n",
       " ('обобщение', 0.41845536),\n",
       " ('коррекция', 0.38692376),\n",
       " ('определение', 0.3796479),\n",
       " ('обр определение', 0.3568918),\n",
       " ('дискурс', 0.30305752),\n",
       " ('переспрос', 0.2543023),\n",
       " ('модальность', 0.24200524),\n",
       " ('переспрос как', 0.16896102)]"
      ]
     },
     "execution_count": 32,
     "metadata": {},
     "output_type": "execute_result"
    }
   ],
   "source": [
    "find_type(sentence)"
   ]
  },
  {
   "cell_type": "code",
   "execution_count": 33,
   "metadata": {
    "collapsed": true
   },
   "outputs": [],
   "source": [
    "sentence = 'Очень, очень, очень желает с тобой познакомиться! — Да с какой же стати очень-то? — То есть не то чтобы... видишь, в последнее время, вот как ты заболел, мне часто и много приходилось об тебе поминать... Ну, он слушал... и как узнал, что ты по юридическому и кончить курса не можешь, по обстоятельствам, то сказал: «Как жаль!» Я и заключил... то есть всё это вместе, не одно ведь это; вчера Заметов...'"
   ]
  },
  {
   "cell_type": "markdown",
   "metadata": {},
   "source": [
    "А вот тут да, дискурсивное + коррекция"
   ]
  },
  {
   "cell_type": "code",
   "execution_count": 34,
   "metadata": {},
   "outputs": [
    {
     "data": {
      "text/plain": [
       "[('коррекция', 0.8345981),\n",
       " ('переспрос', 0.66444075),\n",
       " ('модальность', 0.649335),\n",
       " ('дискурс', 0.60710835),\n",
       " ('переспрос инт', 0.5093532),\n",
       " ('интерпретация', 0.4326337),\n",
       " ('следствие', 0.40162003),\n",
       " ('дополнение', 0.38091367),\n",
       " ('переспрос как', 0.36725906),\n",
       " ('переформулирование', 0.32998458),\n",
       " ('пример', 0.31459954),\n",
       " ('спецификация', 0.3097917),\n",
       " ('обр определение', 0.23680076),\n",
       " ('обобщение', 0.23121443),\n",
       " ('определение', 0.171176)]"
      ]
     },
     "execution_count": 34,
     "metadata": {},
     "output_type": "execute_result"
    }
   ],
   "source": [
    "find_type(sentence)"
   ]
  },
  {
   "cell_type": "code",
   "execution_count": 35,
   "metadata": {
    "collapsed": true
   },
   "outputs": [],
   "source": [
    "sentence = 'Не дальше, как сегодня, то есть в субботу, опять со статьей произошло что-то'"
   ]
  },
  {
   "cell_type": "markdown",
   "metadata": {},
   "source": [
    "Дополнение"
   ]
  },
  {
   "cell_type": "code",
   "execution_count": 36,
   "metadata": {},
   "outputs": [
    {
     "data": {
      "text/plain": [
       "[('коррекция', 0.5870863),\n",
       " ('модальность', 0.3988665),\n",
       " ('переспрос', 0.36593),\n",
       " ('дискурс', 0.29356867),\n",
       " ('переспрос инт', 0.28157365),\n",
       " ('интерпретация', 0.23318017),\n",
       " ('дополнение', 0.2053265),\n",
       " ('переспрос как', 0.19805361),\n",
       " ('следствие', 0.19701575),\n",
       " ('переформулирование', 0.16128781),\n",
       " ('пример', 0.15274444),\n",
       " ('спецификация', 0.13818322),\n",
       " ('обобщение', 0.08339409),\n",
       " ('обр определение', 0.048011523),\n",
       " ('определение', 0.039526027)]"
      ]
     },
     "execution_count": 36,
     "metadata": {},
     "output_type": "execute_result"
    }
   ],
   "source": [
    "find_type(sentence)"
   ]
  },
  {
   "cell_type": "code",
   "execution_count": 37,
   "metadata": {
    "collapsed": true
   },
   "outputs": [],
   "source": [
    "sentence = 'Он вникал в глубину этого сравнения и разбирал, что такое другие и что он сам, в какой степени возможна и справедлива эта параллель и как тяжела обида, нанесенная ему Захаром; наконец, сознательно ли оскорбил его Захар, то есть убежден ли он был, что Илья Ильич всё равно, что «другой», или так это сорвалось у него с языка, без участия головы'"
   ]
  },
  {
   "cell_type": "markdown",
   "metadata": {},
   "source": [
    "Интерпретация"
   ]
  },
  {
   "cell_type": "code",
   "execution_count": 38,
   "metadata": {},
   "outputs": [
    {
     "data": {
      "text/plain": [
       "[('коррекция', 0.6849089),\n",
       " ('переспрос инт', 0.5766381),\n",
       " ('модальность', 0.54515266),\n",
       " ('переспрос', 0.5402034),\n",
       " ('дополнение', 0.53942215),\n",
       " ('следствие', 0.5211004),\n",
       " ('интерпретация', 0.5183997),\n",
       " ('переформулирование', 0.4998029),\n",
       " ('дискурс', 0.49539855),\n",
       " ('спецификация', 0.4515638),\n",
       " ('пример', 0.44867957),\n",
       " ('обобщение', 0.40390095),\n",
       " ('обр определение', 0.37540218),\n",
       " ('определение', 0.3723401),\n",
       " ('переспрос как', 0.2135355)]"
      ]
     },
     "execution_count": 38,
     "metadata": {},
     "output_type": "execute_result"
    }
   ],
   "source": [
    "find_type(sentence)"
   ]
  },
  {
   "cell_type": "code",
   "execution_count": 39,
   "metadata": {
    "collapsed": true
   },
   "outputs": [],
   "source": [
    "sentence = 'Недоверчив, скептик, циник... надувать любит, то есть не надувать, а дурачить...'"
   ]
  },
  {
   "cell_type": "markdown",
   "metadata": {},
   "source": [
    "Коррекция"
   ]
  },
  {
   "cell_type": "code",
   "execution_count": 40,
   "metadata": {},
   "outputs": [
    {
     "data": {
      "text/plain": [
       "[('коррекция', 0.61111975),\n",
       " ('переспрос', 0.52047914),\n",
       " ('переспрос как', 0.4836254),\n",
       " ('дискурс', 0.47677955),\n",
       " ('модальность', 0.42416152),\n",
       " ('переспрос инт', 0.3421536),\n",
       " ('интерпретация', 0.29362494),\n",
       " ('следствие', 0.2685734),\n",
       " ('дополнение', 0.25317886),\n",
       " ('спецификация', 0.21385588),\n",
       " ('переформулирование', 0.20698303),\n",
       " ('пример', 0.18612926),\n",
       " ('обобщение', 0.1367163),\n",
       " ('обр определение', 0.12662798),\n",
       " ('определение', 0.07190362)]"
      ]
     },
     "execution_count": 40,
     "metadata": {},
     "output_type": "execute_result"
    }
   ],
   "source": [
    "find_type(sentence)"
   ]
  },
  {
   "cell_type": "code",
   "execution_count": 41,
   "metadata": {
    "collapsed": true
   },
   "outputs": [],
   "source": [
    "sentence = '― Я вечный двигатель изобрел.  ― То есть как? ― спросил Аркадий Максимович Фетисов. '"
   ]
  },
  {
   "cell_type": "markdown",
   "metadata": {},
   "source": [
    "Переспрос как"
   ]
  },
  {
   "cell_type": "code",
   "execution_count": 42,
   "metadata": {},
   "outputs": [
    {
     "data": {
      "text/plain": [
       "[('коррекция', 0.44792897),\n",
       " ('переспрос как', 0.38327762),\n",
       " ('переспрос', 0.3653465),\n",
       " ('дискурс', 0.32223785),\n",
       " ('модальность', 0.31283477),\n",
       " ('переспрос инт', 0.20357259),\n",
       " ('дополнение', 0.16124123),\n",
       " ('интерпретация', 0.14511849),\n",
       " ('спецификация', 0.1148869),\n",
       " ('следствие', 0.10626988),\n",
       " ('переформулирование', 0.07470271),\n",
       " ('пример', 0.061679058),\n",
       " ('обобщение', 0.030053873),\n",
       " ('обр определение', 0.023682129),\n",
       " ('определение', -0.005514154)]"
      ]
     },
     "execution_count": 42,
     "metadata": {},
     "output_type": "execute_result"
    }
   ],
   "source": [
    "find_type(sentence)"
   ]
  },
  {
   "cell_type": "code",
   "execution_count": 43,
   "metadata": {
    "collapsed": true
   },
   "outputs": [],
   "source": [
    "sentence = '― У меня было плохое настроение.   ― То есть?   ― Мне показалось, что все уже было… '"
   ]
  },
  {
   "cell_type": "markdown",
   "metadata": {},
   "source": [
    "Переспрос"
   ]
  },
  {
   "cell_type": "code",
   "execution_count": 44,
   "metadata": {},
   "outputs": [
    {
     "data": {
      "text/plain": [
       "[('коррекция', 0.8154006),\n",
       " ('модальность', 0.6904732),\n",
       " ('переспрос', 0.6542083),\n",
       " ('дискурс', 0.5524111),\n",
       " ('переспрос инт', 0.45652768),\n",
       " ('интерпретация', 0.40393516),\n",
       " ('переспрос как', 0.3833468),\n",
       " ('следствие', 0.35151908),\n",
       " ('дополнение', 0.29680344),\n",
       " ('пример', 0.259354),\n",
       " ('спецификация', 0.2400244),\n",
       " ('переформулирование', 0.23602137),\n",
       " ('обр определение', 0.20430605),\n",
       " ('обобщение', 0.14350344),\n",
       " ('определение', 0.09449407)]"
      ]
     },
     "execution_count": 44,
     "metadata": {},
     "output_type": "execute_result"
    }
   ],
   "source": [
    "find_type(sentence)"
   ]
  },
  {
   "cell_type": "markdown",
   "metadata": {
    "collapsed": true
   },
   "source": [
    "# Классификатор"
   ]
  },
  {
   "cell_type": "markdown",
   "metadata": {},
   "source": [
    "Попробуем построить более сложный классификатор из встроенных в sklearn"
   ]
  },
  {
   "cell_type": "code",
   "execution_count": 45,
   "metadata": {
    "collapsed": true
   },
   "outputs": [],
   "source": [
    "import pandas as pd"
   ]
  },
  {
   "cell_type": "code",
   "execution_count": 46,
   "metadata": {
    "collapsed": true
   },
   "outputs": [],
   "source": [
    "# Создадим словарь объектов и ответов\n",
    "dic = {}\n",
    "dic['context'] = [i[1] for i in sim]\n",
    "dic['type'] = tags"
   ]
  },
  {
   "cell_type": "code",
   "execution_count": 47,
   "metadata": {
    "collapsed": true
   },
   "outputs": [],
   "source": [
    "# Сделаем датафрейм\n",
    "df = pd.DataFrame(dic)"
   ]
  },
  {
   "cell_type": "code",
   "execution_count": 48,
   "metadata": {
    "collapsed": true
   },
   "outputs": [],
   "source": [
    "X = df['context'].to_numpy().reshape(-1, 1) # Множество объектов\n",
    "y = df['type'].to_numpy().reshape((-1, 1)) # Множество ответов"
   ]
  },
  {
   "cell_type": "code",
   "execution_count": 49,
   "metadata": {},
   "outputs": [
    {
     "data": {
      "text/plain": [
       "array([[0.36319348],\n",
       "       [0.21303096]])"
      ]
     },
     "execution_count": 49,
     "metadata": {},
     "output_type": "execute_result"
    }
   ],
   "source": [
    "X[:2]"
   ]
  },
  {
   "cell_type": "markdown",
   "metadata": {},
   "source": [
    "Создадим отложенную выборку для оценки качества модели"
   ]
  },
  {
   "cell_type": "code",
   "execution_count": 50,
   "metadata": {
    "collapsed": true
   },
   "outputs": [],
   "source": [
    "from sklearn.model_selection import train_test_split"
   ]
  },
  {
   "cell_type": "code",
   "execution_count": 51,
   "metadata": {
    "collapsed": true
   },
   "outputs": [],
   "source": [
    "X_train, X_test, y_train, y_test = train_test_split(X, y, random_state=42)"
   ]
  },
  {
   "cell_type": "markdown",
   "metadata": {},
   "source": [
    "Начнем работать с моделями"
   ]
  },
  {
   "cell_type": "markdown",
   "metadata": {},
   "source": [
    "**KNN**"
   ]
  },
  {
   "cell_type": "code",
   "execution_count": 52,
   "metadata": {
    "collapsed": true
   },
   "outputs": [],
   "source": [
    "from sklearn.neighbors import KNeighborsClassifier\n",
    "from sklearn.preprocessing import StandardScaler"
   ]
  },
  {
   "cell_type": "code",
   "execution_count": 53,
   "metadata": {
    "collapsed": true
   },
   "outputs": [],
   "source": [
    "from sklearn.metrics import accuracy_score\n",
    "from sklearn.model_selection import GridSearchCV"
   ]
  },
  {
   "cell_type": "code",
   "execution_count": 54,
   "metadata": {},
   "outputs": [
    {
     "name": "stderr",
     "output_type": "stream",
     "text": [
      "/usr/local/lib/python3.5/dist-packages/ipykernel_launcher.py:2: DataConversionWarning: A column-vector y was passed when a 1d array was expected. Please change the shape of y to (n_samples, ), for example using ravel().\n",
      "  \n"
     ]
    },
    {
     "data": {
      "text/plain": [
       "KNeighborsClassifier(algorithm='auto', leaf_size=30, metric='cosine',\n",
       "                     metric_params=None, n_jobs=None, n_neighbors=5, p=2,\n",
       "                     weights='uniform')"
      ]
     },
     "execution_count": 54,
     "metadata": {},
     "output_type": "execute_result"
    }
   ],
   "source": [
    "classifier = KNeighborsClassifier(n_neighbors=5, metric='cosine')\n",
    "classifier.fit(list(X_train), y_train)"
   ]
  },
  {
   "cell_type": "code",
   "execution_count": 55,
   "metadata": {},
   "outputs": [
    {
     "data": {
      "text/plain": [
       "0.264"
      ]
     },
     "execution_count": 55,
     "metadata": {},
     "output_type": "execute_result"
    }
   ],
   "source": [
    "y_pred = classifier.predict(X_test)\n",
    "accuracy_score(y_test, y_pred)"
   ]
  },
  {
   "cell_type": "code",
   "execution_count": 56,
   "metadata": {
    "collapsed": true
   },
   "outputs": [],
   "source": [
    "from sklearn.metrics.pairwise import cosine_similarity"
   ]
  },
  {
   "cell_type": "code",
   "execution_count": 57,
   "metadata": {
    "collapsed": true
   },
   "outputs": [],
   "source": [
    "grid_params = {\n",
    "    'n_neighbors' : [3, 5, 7],\n",
    "    'weights' : ['uniform', 'distance'],\n",
    "    'metric' : ['euclidean', 'manhattan', 'cosine']\n",
    "}"
   ]
  },
  {
   "cell_type": "code",
   "execution_count": 58,
   "metadata": {
    "collapsed": true
   },
   "outputs": [],
   "source": [
    "gs = GridSearchCV(\n",
    "    KNeighborsClassifier(),\n",
    "    grid_params,\n",
    "    verbose=1,\n",
    "    cv=3,\n",
    "    n_jobs=-1\n",
    "    )"
   ]
  },
  {
   "cell_type": "code",
   "execution_count": 59,
   "metadata": {},
   "outputs": [
    {
     "name": "stdout",
     "output_type": "stream",
     "text": [
      "Fitting 3 folds for each of 18 candidates, totalling 54 fits\n"
     ]
    },
    {
     "name": "stderr",
     "output_type": "stream",
     "text": [
      "/usr/local/lib/python3.5/dist-packages/sklearn/model_selection/_split.py:657: Warning: The least populated class in y has only 1 members, which is too few. The minimum number of members in any class cannot be less than n_splits=3.\n",
      "  % (min_groups, self.n_splits)), Warning)\n",
      "[Parallel(n_jobs=-1)]: Using backend LokyBackend with 8 concurrent workers.\n",
      "[Parallel(n_jobs=-1)]: Done  34 tasks      | elapsed:    3.0s\n",
      "[Parallel(n_jobs=-1)]: Done  54 out of  54 | elapsed:    4.0s finished\n",
      "/usr/local/lib/python3.5/dist-packages/sklearn/model_selection/_search.py:813: DeprecationWarning: The default of the `iid` parameter will change from True to False in version 0.22 and will be removed in 0.24. This will change numeric results when test-set sizes are unequal.\n",
      "  DeprecationWarning)\n",
      "/usr/local/lib/python3.5/dist-packages/sklearn/model_selection/_search.py:714: DataConversionWarning: A column-vector y was passed when a 1d array was expected. Please change the shape of y to (n_samples, ), for example using ravel().\n",
      "  self.best_estimator_.fit(X, y, **fit_params)\n"
     ]
    }
   ],
   "source": [
    "gs_model = gs.fit(list(X_train), y_train)"
   ]
  },
  {
   "cell_type": "code",
   "execution_count": 60,
   "metadata": {},
   "outputs": [
    {
     "data": {
      "text/plain": [
       "{'metric': 'cosine', 'n_neighbors': 5, 'weights': 'uniform'}"
      ]
     },
     "execution_count": 60,
     "metadata": {},
     "output_type": "execute_result"
    }
   ],
   "source": [
    "gs_model.best_params_"
   ]
  },
  {
   "cell_type": "code",
   "execution_count": 61,
   "metadata": {},
   "outputs": [
    {
     "data": {
      "text/plain": [
       "0.264"
      ]
     },
     "execution_count": 61,
     "metadata": {},
     "output_type": "execute_result"
    }
   ],
   "source": [
    "y_pred = gs_model.predict(X_test)\n",
    "accuracy_score(y_test, y_pred)"
   ]
  },
  {
   "cell_type": "markdown",
   "metadata": {},
   "source": [
    "**Random Forest**"
   ]
  },
  {
   "cell_type": "code",
   "execution_count": 62,
   "metadata": {
    "collapsed": true
   },
   "outputs": [],
   "source": [
    "from sklearn.ensemble import RandomForestClassifier\n",
    "from sklearn.ensemble import VotingClassifier"
   ]
  },
  {
   "cell_type": "code",
   "execution_count": 63,
   "metadata": {
    "collapsed": true
   },
   "outputs": [],
   "source": [
    "rnd_clf = RandomForestClassifier(random_state=42)"
   ]
  },
  {
   "cell_type": "code",
   "execution_count": 64,
   "metadata": {},
   "outputs": [
    {
     "name": "stderr",
     "output_type": "stream",
     "text": [
      "/usr/local/lib/python3.5/dist-packages/sklearn/ensemble/forest.py:245: FutureWarning: The default value of n_estimators will change from 10 in version 0.20 to 100 in 0.22.\n",
      "  \"10 in version 0.20 to 100 in 0.22.\", FutureWarning)\n",
      "/usr/local/lib/python3.5/dist-packages/ipykernel_launcher.py:1: DataConversionWarning: A column-vector y was passed when a 1d array was expected. Please change the shape of y to (n_samples,), for example using ravel().\n",
      "  \"\"\"Entry point for launching an IPython kernel.\n"
     ]
    },
    {
     "data": {
      "text/plain": [
       "RandomForestClassifier(bootstrap=True, class_weight=None, criterion='gini',\n",
       "                       max_depth=None, max_features='auto', max_leaf_nodes=None,\n",
       "                       min_impurity_decrease=0.0, min_impurity_split=None,\n",
       "                       min_samples_leaf=1, min_samples_split=2,\n",
       "                       min_weight_fraction_leaf=0.0, n_estimators=10,\n",
       "                       n_jobs=None, oob_score=False, random_state=42, verbose=0,\n",
       "                       warm_start=False)"
      ]
     },
     "execution_count": 64,
     "metadata": {},
     "output_type": "execute_result"
    }
   ],
   "source": [
    "rnd_clf.fit(X_train, y_train)"
   ]
  },
  {
   "cell_type": "code",
   "execution_count": 65,
   "metadata": {
    "collapsed": true
   },
   "outputs": [],
   "source": [
    "y_pred = rnd_clf.predict(X_test)"
   ]
  },
  {
   "cell_type": "code",
   "execution_count": 66,
   "metadata": {},
   "outputs": [
    {
     "data": {
      "text/plain": [
       "0.152"
      ]
     },
     "execution_count": 66,
     "metadata": {},
     "output_type": "execute_result"
    }
   ],
   "source": [
    "accuracy_score(y_test, y_pred)"
   ]
  },
  {
   "cell_type": "code",
   "execution_count": 67,
   "metadata": {
    "collapsed": true
   },
   "outputs": [],
   "source": [
    "from sklearn.model_selection import RandomizedSearchCV\n",
    "\n",
    "n_estimators = [int(x) for x in np.linspace(start = 200, stop = 2000, num = 10)]\n",
    "max_features = ['auto', 'sqrt']\n",
    "max_depth = [int(x) for x in np.linspace(10, 110, num = 11)]\n",
    "max_depth.append(None)\n",
    "min_samples_split = [2, 5, 10]\n",
    "min_samples_leaf = [1, 2, 4]\n",
    "bootstrap = [True, False]\n",
    "\n",
    "random_grid = {'n_estimators': n_estimators,\n",
    "               'max_features': max_features,\n",
    "               'max_depth': max_depth,\n",
    "               'min_samples_split': min_samples_split,\n",
    "               'min_samples_leaf': min_samples_leaf,\n",
    "               'bootstrap': bootstrap}"
   ]
  },
  {
   "cell_type": "code",
   "execution_count": 68,
   "metadata": {},
   "outputs": [
    {
     "name": "stderr",
     "output_type": "stream",
     "text": [
      "/usr/local/lib/python3.5/dist-packages/sklearn/model_selection/_split.py:657: Warning: The least populated class in y has only 1 members, which is too few. The minimum number of members in any class cannot be less than n_splits=3.\n",
      "  % (min_groups, self.n_splits)), Warning)\n"
     ]
    },
    {
     "name": "stdout",
     "output_type": "stream",
     "text": [
      "Fitting 3 folds for each of 100 candidates, totalling 300 fits\n"
     ]
    },
    {
     "name": "stderr",
     "output_type": "stream",
     "text": [
      "[Parallel(n_jobs=-1)]: Using backend LokyBackend with 8 concurrent workers.\n",
      "[Parallel(n_jobs=-1)]: Done  25 tasks      | elapsed:    7.6s\n",
      "[Parallel(n_jobs=-1)]: Done 146 tasks      | elapsed:   38.3s\n",
      "[Parallel(n_jobs=-1)]: Done 300 out of 300 | elapsed:  1.3min finished\n",
      "/usr/local/lib/python3.5/dist-packages/sklearn/model_selection/_search.py:813: DeprecationWarning: The default of the `iid` parameter will change from True to False in version 0.22 and will be removed in 0.24. This will change numeric results when test-set sizes are unequal.\n",
      "  DeprecationWarning)\n",
      "/usr/local/lib/python3.5/dist-packages/sklearn/model_selection/_search.py:714: DataConversionWarning: A column-vector y was passed when a 1d array was expected. Please change the shape of y to (n_samples,), for example using ravel().\n",
      "  self.best_estimator_.fit(X, y, **fit_params)\n"
     ]
    }
   ],
   "source": [
    "rf = RandomForestClassifier()\n",
    "\n",
    "rf_random = RandomizedSearchCV(estimator = rf, param_distributions = random_grid, n_iter = 100, cv = 3, verbose=2, random_state=42, n_jobs = -1)\n",
    "\n",
    "rf_model = rf_random.fit(list(X_train), y_train)"
   ]
  },
  {
   "cell_type": "code",
   "execution_count": 69,
   "metadata": {},
   "outputs": [
    {
     "data": {
      "text/plain": [
       "0.208"
      ]
     },
     "execution_count": 69,
     "metadata": {},
     "output_type": "execute_result"
    }
   ],
   "source": [
    "y_pred = rf_model.predict(X_test)\n",
    "accuracy_score(y_test, y_pred)"
   ]
  },
  {
   "cell_type": "markdown",
   "metadata": {},
   "source": [
    "**LogReg**"
   ]
  },
  {
   "cell_type": "code",
   "execution_count": 70,
   "metadata": {
    "collapsed": true
   },
   "outputs": [],
   "source": [
    "from sklearn.linear_model import LogisticRegression"
   ]
  },
  {
   "cell_type": "code",
   "execution_count": 71,
   "metadata": {
    "collapsed": true
   },
   "outputs": [],
   "source": [
    "log_clf = LogisticRegression(random_state=42)"
   ]
  },
  {
   "cell_type": "code",
   "execution_count": 72,
   "metadata": {},
   "outputs": [
    {
     "name": "stderr",
     "output_type": "stream",
     "text": [
      "/usr/local/lib/python3.5/dist-packages/sklearn/linear_model/logistic.py:432: FutureWarning: Default solver will be changed to 'lbfgs' in 0.22. Specify a solver to silence this warning.\n",
      "  FutureWarning)\n",
      "/usr/local/lib/python3.5/dist-packages/sklearn/utils/validation.py:724: DataConversionWarning: A column-vector y was passed when a 1d array was expected. Please change the shape of y to (n_samples, ), for example using ravel().\n",
      "  y = column_or_1d(y, warn=True)\n",
      "/usr/local/lib/python3.5/dist-packages/sklearn/linear_model/logistic.py:469: FutureWarning: Default multi_class will be changed to 'auto' in 0.22. Specify the multi_class option to silence this warning.\n",
      "  \"this warning.\", FutureWarning)\n"
     ]
    },
    {
     "data": {
      "text/plain": [
       "LogisticRegression(C=1.0, class_weight=None, dual=False, fit_intercept=True,\n",
       "                   intercept_scaling=1, l1_ratio=None, max_iter=100,\n",
       "                   multi_class='warn', n_jobs=None, penalty='l2',\n",
       "                   random_state=42, solver='warn', tol=0.0001, verbose=0,\n",
       "                   warm_start=False)"
      ]
     },
     "execution_count": 72,
     "metadata": {},
     "output_type": "execute_result"
    }
   ],
   "source": [
    "log_clf.fit(list(X_train), y_train)"
   ]
  },
  {
   "cell_type": "code",
   "execution_count": 73,
   "metadata": {},
   "outputs": [
    {
     "data": {
      "text/plain": [
       "0.248"
      ]
     },
     "execution_count": 73,
     "metadata": {},
     "output_type": "execute_result"
    }
   ],
   "source": [
    "y_pred = log_clf.predict(X_test)\n",
    "accuracy_score(y_test, y_pred)"
   ]
  },
  {
   "cell_type": "code",
   "execution_count": null,
   "metadata": {
    "collapsed": true
   },
   "outputs": [],
   "source": []
  }
 ],
 "metadata": {
  "kernelspec": {
   "display_name": "Python 3",
   "language": "python",
   "name": "python3"
  },
  "language_info": {
   "codemirror_mode": {
    "name": "ipython",
    "version": 3
   },
   "file_extension": ".py",
   "mimetype": "text/x-python",
   "name": "python",
   "nbconvert_exporter": "python",
   "pygments_lexer": "ipython3",
   "version": "3.5.2"
  }
 },
 "nbformat": 4,
 "nbformat_minor": 2
}
