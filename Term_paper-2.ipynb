{
 "cells": [
  {
   "cell_type": "code",
   "execution_count": 1,
   "metadata": {
    "collapsed": true
   },
   "outputs": [],
   "source": [
    "import re, math, codecs, os"
   ]
  },
  {
   "cell_type": "code",
   "execution_count": null,
   "metadata": {
    "collapsed": true
   },
   "outputs": [],
   "source": [
    "text = []\n",
    "tokens = 0\n",
    "texts = 0\n",
    "with codecs.open('/home/dryzhova/ruwac-filtered_part.out', 'r', encoding='utf-8') as ruwac:\n",
    "    for line in ruwac:\n",
    "        if '</text>' in line:\n",
    "            parse(text)\n",
    "            texts += 1\n",
    "            text = []\n",
    "        else:\n",
    "            line = line.split()\n",
    "            text.append(line)\n",
    "            tokens += 1\n",
    "print(texts)\n",
    "print(tokens)"
   ]
  },
  {
   "cell_type": "code",
   "execution_count": 4,
   "metadata": {},
   "outputs": [
    {
     "name": "stdout",
     "output_type": "stream",
     "text": [
      "707958\n",
      "1120416048\n"
     ]
    }
   ],
   "source": [
    "print(texts)\n",
    "print(tokens)"
   ]
  },
  {
   "cell_type": "code",
   "execution_count": 2,
   "metadata": {
    "collapsed": true
   },
   "outputs": [],
   "source": [
    "import gensim\n",
    "from gensim.models import word2vec\n",
    "from gensim.models import Word2Vec"
   ]
  },
  {
   "cell_type": "code",
   "execution_count": 5,
   "metadata": {
    "collapsed": true
   },
   "outputs": [],
   "source": [
    "f = 'lemmas.txt'\n",
    "data = gensim.models.word2vec.LineSentence(f)"
   ]
  },
  {
   "cell_type": "code",
   "execution_count": null,
   "metadata": {
    "collapsed": true
   },
   "outputs": [],
   "source": [
    "model_cbow = gensim.models.Word2Vec(data, size=300, window=5, min_count=5, iter=50)"
   ]
  },
  {
   "cell_type": "code",
   "execution_count": null,
   "metadata": {
    "collapsed": true
   },
   "outputs": [],
   "source": [
    "model_cbow.init_sims(replace=True)\n",
    "model_path = \"to.bin\"\n",
    "\n",
    "print(\"Saving model...\")\n",
    "model_cbow.wv.save_word2vec_format(model_path, binary=True)"
   ]
  },
  {
   "cell_type": "code",
   "execution_count": 3,
   "metadata": {
    "collapsed": true
   },
   "outputs": [],
   "source": [
    "from pprint import pprint"
   ]
  },
  {
   "cell_type": "code",
   "execution_count": null,
   "metadata": {
    "collapsed": true
   },
   "outputs": [],
   "source": [
    "pprint(model_cbow.wv.most_similar(\"тоесть\", topn=50))"
   ]
  },
  {
   "cell_type": "code",
   "execution_count": null,
   "metadata": {
    "collapsed": true
   },
   "outputs": [],
   "source": [
    "#!/usr/bin/python\n",
    "# -*- coding: utf-8 -*-\n",
    "import gensim\n",
    "from gensim.models import word2vec\n",
    "from gensim.models import Word2Vec\n",
    "\n",
    "m = \"to.bin\"\n",
    "model = Word2Vec.load(m)"
   ]
  },
  {
   "cell_type": "code",
   "execution_count": 3,
   "metadata": {
    "collapsed": true
   },
   "outputs": [],
   "source": [
    "info = []\n",
    "words = []\n",
    "final = []\n",
    "with open('sentences.txt') as fh:\n",
    "    sentences = fh.readlines()\n",
    "for sentence in sentences:\n",
    "    sentence.strip()\n",
    "    sentence = sentence.split()\n",
    "    count = 0\n",
    "    for word in sentence:\n",
    "        info.append(word)\n",
    "        if len(info) == 3:\n",
    "            words.append(info)\n",
    "            info = []\n",
    "    final.append(words)\n",
    "    words = []"
   ]
  },
  {
   "cell_type": "code",
   "execution_count": 4,
   "metadata": {},
   "outputs": [
    {
     "name": "stdout",
     "output_type": "stream",
     "text": [
      "1000\n"
     ]
    }
   ],
   "source": [
    "print(len(final))"
   ]
  },
  {
   "cell_type": "code",
   "execution_count": 5,
   "metadata": {
    "collapsed": true
   },
   "outputs": [],
   "source": [
    "m = \"to.bin\""
   ]
  },
  {
   "cell_type": "code",
   "execution_count": 6,
   "metadata": {
    "collapsed": true
   },
   "outputs": [],
   "source": [
    "model = gensim.models.KeyedVectors.load_word2vec_format(m, binary=True, unicode_errors='ignore')"
   ]
  },
  {
   "cell_type": "code",
   "execution_count": 7,
   "metadata": {},
   "outputs": [
    {
     "name": "stdout",
     "output_type": "stream",
     "text": [
      "\"word 'шибкоприобщать' not in vocabulary\"\n",
      "\"word 'летесть' not in vocabulary\"\n",
      "\"word 'напароход' not in vocabulary\"\n",
      "\"word 'эсэмэску' not in vocabulary\"\n",
      "\"word 'эсэмэску' not in vocabulary\"\n",
      "\"word 'биоресурсы' not in vocabulary\"\n",
      "\"word 'амфимиксис' not in vocabulary\"\n",
      "\"word 'искушатьтерпение' not in vocabulary\"\n",
      "\"word 'сделаетвешивать' not in vocabulary\"\n",
      "\"word 'двухипостасный' not in vocabulary\"\n",
      "\"word 'ямблих' not in vocabulary\"\n",
      "\"word 'теургически' not in vocabulary\"\n",
      "\"word 'всеголять' not in vocabulary\"\n",
      "\"word 'нидругой' not in vocabulary\"\n",
      "\"word 'этозвучать' not in vocabulary\"\n",
      "\"word 'решенияпроблема' not in vocabulary\"\n",
      "\"word 'разныетемпература' not in vocabulary\"\n",
      "\"word 'лазебной' not in vocabulary\"\n",
      "\"word 'ниокрый' not in vocabulary\"\n",
      "\"word 'тамзаписывать' not in vocabulary\"\n",
      "\"word 'бутовичпотребовать' not in vocabulary\"\n",
      "\"word 'этотребование' not in vocabulary\"\n",
      "\"word 'восновное' not in vocabulary\"\n",
      "\"word 'способнаразвиваться' not in vocabulary\"\n",
      "\"word 'менееоплачиваемый' not in vocabulary\"\n",
      "\"word 'ненарушенность' not in vocabulary\"\n",
      "\"word 'васпропускать' not in vocabulary\"\n",
      "\"word 'интеллектуальнойаналитический' not in vocabulary\"\n",
      "\"word 'усмановна' not in vocabulary\"\n",
      "\"word 'учительбудет' not in vocabulary\"\n",
      "\"word 'итогеразговор' not in vocabulary\"\n",
      "\"word 'соборбыстро' not in vocabulary\"\n",
      "\"word 'шурупский' not in vocabulary\"\n",
      "\"word 'неуверенносказывать' not in vocabulary\"\n",
      "\"word 'косвенныйущерб' not in vocabulary\"\n",
      "\"word 'трлн' not in vocabulary\"\n",
      "\"word 'работаютспутник' not in vocabulary\"\n",
      "\"word 'тераэлектрон' not in vocabulary\"\n",
      "\"word 'иунижение' not in vocabulary\"\n",
      "\"word 'клишаса' not in vocabulary\"\n",
      "\"word 'чтозначительный' not in vocabulary\"\n",
      "\"word 'добиваетсяпроведение' not in vocabulary\"\n",
      "\"word 'брейвик' not in vocabulary\"\n",
      "\"word 'обособленныхплощадка' not in vocabulary\"\n",
      "\"word 'огигантский' not in vocabulary\"\n",
      "\"word 'куана' not in vocabulary\"\n",
      "\"word 'непосредственновозле' not in vocabulary\"\n",
      "\"word 'ениш' not in vocabulary\"\n",
      "\"word 'ночныхчас' not in vocabulary\"\n",
      "\"word 'северныйширотный' not in vocabulary\"\n",
      "\"word 'сабетта' not in vocabulary\"\n",
      "\"word 'барбей' not in vocabulary\"\n",
      "\"word 'двухмесячнымопоздание' not in vocabulary\"\n",
      "\"word 'тоннывзрывчатка' not in vocabulary\"\n",
      "\"word 'онобращаться' not in vocabulary\"\n",
      "\"word 'котороепроисходить' not in vocabulary\"\n",
      "\"word 'натрехмерный' not in vocabulary\"\n",
      "\"word 'унижаетсанинструктор' not in vocabulary\"\n",
      "\"word 'каждыйиндивид' not in vocabulary\"\n",
      "\"word 'чтоуж' not in vocabulary\"\n",
      "\"word 'доносилва' not in vocabulary\"\n",
      "\"word 'которуюсовершать' not in vocabulary\"\n",
      "\"word 'заметилчто' not in vocabulary\"\n",
      "\"word 'тореадоромсовершенно' not in vocabulary\"\n",
      "\"word 'этомня' not in vocabulary\"\n",
      "\"word 'пятьклеточка' not in vocabulary\"\n",
      "\"word 'трлн' not in vocabulary\"\n",
      "\"word 'силылитва' not in vocabulary\"\n",
      "\"word 'обывателиус' not in vocabulary\"\n",
      "\"word 'занеимение' not in vocabulary\"\n",
      "\"word 'длянарод' not in vocabulary\"\n",
      "\"word 'небесприятный' not in vocabulary\"\n",
      "\"word 'искалечивать' not in vocabulary\"\n",
      "\"word 'болеетый' not in vocabulary\"\n",
      "\"word 'оставляложелать' not in vocabulary\"\n",
      "\"word 'военногостолкновение' not in vocabulary\"\n",
      "\"word 'предельнойопределенность' not in vocabulary\"\n",
      "\"word 'чемтранзакция' not in vocabulary\"\n",
      "\"word 'определеннымидыра' not in vocabulary\"\n",
      "\"word 'вариантика' not in vocabulary\"\n",
      "\"word 'новыхзнание' not in vocabulary\"\n",
      "\"word 'строительствоздание' not in vocabulary\"\n",
      "\"word 'пушкарная' not in vocabulary\"\n",
      "\"word 'губпросвет' not in vocabulary\"\n",
      "\"word 'торговогоместо' not in vocabulary\"\n",
      "\"word 'комплекспредставлять' not in vocabulary\"\n",
      "\"word 'целевогорынок' not in vocabulary\"\n",
      "\"word 'есличеловечество' not in vocabulary\"\n",
      "\"word 'сошибка' not in vocabulary\"\n",
      "\"word 'болтенков' not in vocabulary\"\n",
      "\"word 'вучик' not in vocabulary\"\n",
      "\"word 'троллят' not in vocabulary\"\n",
      "\"word 'скоростьдвижение' not in vocabulary\"\n",
      "\"word 'зонеплатный' not in vocabulary\"\n",
      "\"word 'вучик' not in vocabulary\"\n",
      "\"word 'трлн' not in vocabulary\"\n",
      "\"word 'враспоряжение' not in vocabulary\"\n",
      "\"word 'нашасторона' not in vocabulary\"\n",
      "\"word 'полсекунды' not in vocabulary\"\n",
      "\"word 'менгхин' not in vocabulary\"\n",
      "\"word 'обеспечениякомпания' not in vocabulary\"\n",
      "\"word 'обновленийвсем' not in vocabulary\"\n",
      "\"word 'пользоватьсятемь' not in vocabulary\"\n",
      "\"word 'лицегоскомпания' not in vocabulary\"\n",
      "\"word 'заэлектричество' not in vocabulary\"\n",
      "\"word 'значительныхмасштаб' not in vocabulary\"\n",
      "\"word 'полож' not in vocabulary\"\n",
      "\"word 'федерациирассчитывать' not in vocabulary\"\n",
      "\"word 'пильганова' not in vocabulary\"\n",
      "\"word 'оформляласвидетельство' not in vocabulary\"\n",
      "\"word 'фейстоп' not in vocabulary\"\n",
      "\"word 'этосостояние' not in vocabulary\"\n",
      "\"word 'среднемва' not in vocabulary\"\n",
      "\"word 'экзотоксикант' not in vocabulary\"\n",
      "\"word 'человекразумный' not in vocabulary\"\n",
      "\"word 'эволюционногопроцесс' not in vocabulary\"\n",
      "\"word 'всеба' not in vocabulary\"\n",
      "\"word 'дерибрюхово' not in vocabulary\"\n",
      "\"word 'котороепроисходить' not in vocabulary\"\n",
      "\"word 'параундир' not in vocabulary\"\n",
      "\"word 'уранопитек' not in vocabulary\"\n",
      "\"word 'экзометеоролог' not in vocabulary\"\n",
      "\"word 'кварталантикварный' not in vocabulary\"\n",
      "\"word 'тимченова' not in vocabulary\"\n",
      "\"word 'физическогохарактер' not in vocabulary\"\n",
      "\"word 'капзатрата' not in vocabulary\"\n",
      "\"word 'царгасов' not in vocabulary\"\n",
      "\"word 'этиоставаться' not in vocabulary\"\n",
      "\"word 'большесобственный' not in vocabulary\"\n",
      "\"word 'петершуля' not in vocabulary\"\n",
      "\"word 'вмейнстрим' not in vocabulary\"\n",
      "\"word 'тебяот' not in vocabulary\"\n",
      "\"word 'просторнуюантресоль' not in vocabulary\"\n",
      "\"word 'полукольцомкрасоваться' not in vocabulary\"\n",
      "\"word 'попереборка' not in vocabulary\"\n",
      "\"word 'алармистический' not in vocabulary\"\n",
      "\"word 'напримересть' not in vocabulary\"\n",
      "\"word 'можетбывать' not in vocabulary\"\n",
      "\"word 'теряетмолоко' not in vocabulary\"\n",
      "\"word 'десинсибилизирующий' not in vocabulary\"\n",
      "\"word 'псевдопедагог' not in vocabulary\"\n",
      "\"word 'толькожестокость' not in vocabulary\"\n",
      "\"word 'способностисоответствующий' not in vocabulary\"\n",
      "\"word 'фирсач' not in vocabulary\"\n",
      "\"word 'нанефть' not in vocabulary\"\n",
      "\"word 'митров' not in vocabulary\"\n",
      "\"word 'курехинреагировать' not in vocabulary\"\n",
      "\"word 'позалучье' not in vocabulary\"\n",
      "\"word 'летюй' not in vocabulary\"\n",
      "\"word 'традиционнуюрелигия' not in vocabulary\"\n",
      "\"word 'свободасамовыражение' not in vocabulary\"\n",
      "\"word 'отавтор' not in vocabulary\"\n",
      "\"word 'ангелымаленький' not in vocabulary\"\n",
      "\"word 'вниманияевропейский' not in vocabulary\"\n",
      "\"word 'времякак' not in vocabulary\"\n",
      "\"word 'этопозволять' not in vocabulary\"\n",
      "\"word 'былогораздо' not in vocabulary\"\n",
      "\"word 'мухаджрун' not in vocabulary\"\n",
      "\"word 'агаритянин' not in vocabulary\"\n",
      "\"word 'агари' not in vocabulary\"\n",
      "\"word 'кукоцкая' not in vocabulary\"\n",
      "\"word 'пащенкова' not in vocabulary\"\n",
      "\"word 'финансиализация' not in vocabulary\"\n",
      "\"word 'обладателеймобильный' not in vocabulary\"\n",
      "\"word 'токуся' not in vocabulary\"\n",
      "\"word 'ходзин' not in vocabulary\"\n",
      "\"word 'юдокоторое' not in vocabulary\"\n",
      "\"word 'некойлогический' not in vocabulary\"\n",
      "\"word 'повыпытывать' not in vocabulary\"\n",
      "\"word 'затемоткатываться' not in vocabulary\"\n",
      "\"word 'зинаидина' not in vocabulary\"\n",
      "\"word 'составлялужа' not in vocabulary\"\n",
      "\"word 'этовидный' not in vocabulary\"\n",
      "\"word 'дляный' not in vocabulary\"\n",
      "\"word 'маселла' not in vocabulary\"\n",
      "\"word 'элегр' not in vocabulary\"\n",
      "\"word 'ипопадать' not in vocabulary\"\n",
      "\"word 'депардие' not in vocabulary\"\n",
      "\"word 'тыщапитьсотсерийный' not in vocabulary\"\n",
      "\"word 'пятьсотсерийный' not in vocabulary\"\n",
      "\"word 'новейшиеэлемент' not in vocabulary\"\n",
      "\"word 'компаниисамостоятельно' not in vocabulary\"\n",
      "\"word 'даемгарантия' not in vocabulary\"\n",
      "\"word 'фазуплодоношение' not in vocabulary\"\n",
      "\"word 'томнение' not in vocabulary\"\n",
      "\"word 'япредполагать' not in vocabulary\"\n",
      "\"word 'онаограничивать' not in vocabulary\"\n",
      "\"word 'выгоднасланцевый' not in vocabulary\"\n",
      "\"word 'тогозонтик' not in vocabulary\"\n",
      "\"word 'должныподтверждаться' not in vocabulary\"\n",
      "\"word 'журналисткаульяна' not in vocabulary\"\n",
      "\"word 'чтопрезидент' not in vocabulary\"\n",
      "\"word 'философиии' not in vocabulary\"\n",
      "\"word 'уралвагонговно' not in vocabulary\"\n",
      "\"word 'фармакогенетический' not in vocabulary\"\n",
      "\"word 'отвлечеть' not in vocabulary\"\n",
      "\"word 'исестричка' not in vocabulary\"\n",
      "\"word 'современноеискусство' not in vocabulary\"\n",
      "\"word 'филаретоеский' not in vocabulary\"\n",
      "\"word 'пильганова' not in vocabulary\"\n",
      "\"word 'вашегодомостроение' not in vocabulary\"\n",
      "\"word 'ситуацииперестраиваться' not in vocabulary\"\n",
      "\"word 'чтопредставитель' not in vocabulary\"\n",
      "\"word 'самойстрашный' not in vocabulary\"\n",
      "\"word 'понятьсваивать' not in vocabulary\"\n",
      "\"word 'мегасайнс' not in vocabulary\"\n",
      "\"word 'используетсценарий' not in vocabulary\"\n",
      "\"word 'егооценка' not in vocabulary\"\n",
      "\"word 'построитьинфраструктура' not in vocabulary\"\n",
      "\"word 'местозаполнять' not in vocabulary\"\n",
      "\"word 'лазебной' not in vocabulary\"\n",
      "\"word 'самомдело' not in vocabulary\"\n",
      "\"word 'деталяхрассказывать' not in vocabulary\"\n",
      "\"word 'сперекашивать' not in vocabulary\"\n",
      "\"word 'классабуржуазия' not in vocabulary\"\n",
      "\"word 'виздание' not in vocabulary\"\n",
      "\"word 'эволюционируемость' not in vocabulary\"\n",
      "\"word 'этоискать' not in vocabulary\"\n",
      "\"word 'онвставать' not in vocabulary\"\n",
      "\"word 'полулюбить' not in vocabulary\"\n",
      "\"word 'найтовочный' not in vocabulary\"\n",
      "\"word 'иусаживаться' not in vocabulary\"\n",
      "\"word 'мефодичев' not in vocabulary\"\n",
      "\"word 'григас' not in vocabulary\"\n",
      "\"word 'наиждивение' not in vocabulary\"\n",
      "\"word 'анализфундаментальный' not in vocabulary\"\n",
      "\"word 'митров' not in vocabulary\"\n",
      "\"word 'различныхрегион' not in vocabulary\"\n",
      "\"word 'нашегобюджетный' not in vocabulary\"\n",
      "\"word 'отметрополия' not in vocabulary\"\n",
      "\"word 'ветеринарунужно' not in vocabulary\"\n",
      "\"word 'почкисмещаться' not in vocabulary\"\n",
      "\"word 'хрым' not in vocabulary\"\n",
      "\"word 'зався' not in vocabulary\"\n",
      "\"word 'ресурсыприродный' not in vocabulary\"\n",
      "\"word 'вперевод' not in vocabulary\"\n",
      "\"word 'адидже' not in vocabulary\"\n",
      "\"word 'фриули' not in vocabulary\"\n",
      "\"word 'упоминаниятермин' not in vocabulary\"\n",
      "\"word 'коновкова' not in vocabulary\"\n",
      "\"word 'ртсдостаточно' not in vocabulary\"\n",
      "\"word 'поэтомурынок' not in vocabulary\"\n",
      "\"word 'таксмешивать' not in vocabulary\"\n",
      "\"word 'найтиредактор' not in vocabulary\"\n",
      "\"word 'иобработка' not in vocabulary\"\n",
      "\"word 'случаеконцессия' not in vocabulary\"\n",
      "\"word 'семействопростой' not in vocabulary\"\n",
      "\"word 'бысамостоятельно' not in vocabulary\"\n",
      "\"word 'сносяприватизированный' not in vocabulary\"\n",
      "\"word 'надополнительный' not in vocabulary\"\n",
      "\"word 'фруска' not in vocabulary\"\n",
      "\"word 'ходепредыдущий' not in vocabulary\"\n",
      "\"word 'исследованияобнаруживать' not in vocabulary\"\n",
      "\"word 'можновыделять' not in vocabulary\"\n",
      "\"word 'требуеттворческий' not in vocabulary\"\n",
      "\"word 'добитьсядисциплина' not in vocabulary\"\n",
      "\"word 'этосерьезный' not in vocabulary\"\n",
      "\"word 'материальныхобъект' not in vocabulary\"\n",
      "\"word 'выступаетуго' not in vocabulary\"\n",
      "\"word 'отидеологический' not in vocabulary\"\n",
      "\"word 'книгопоклонство' not in vocabulary\"\n",
      "\"word 'самозанимать' not in vocabulary\"\n",
      "\"word 'такиориентироваться' not in vocabulary\"\n",
      "\"word 'спустяполгода' not in vocabulary\"\n",
      "\"word 'егопоступок' not in vocabulary\"\n",
      "\"word 'помимопонятный' not in vocabulary\"\n",
      "\"word 'чторассматривать' not in vocabulary\"\n",
      "\"word 'бездостаточно' not in vocabulary\"\n",
      "\"word 'предполагающегопубличный' not in vocabulary\"\n",
      "\"word 'донеобыкновенно' not in vocabulary\"\n",
      "\"word 'несмерзаться' not in vocabulary\"\n",
      "\"word 'вынеслицелый' not in vocabulary\"\n",
      "\"word 'несформировываться' not in vocabulary\"\n",
      "\"word 'занятьпозиция' not in vocabulary\"\n",
      "\"word 'ксмочь' not in vocabulary\"\n",
      "\"word 'нихпотенциально' not in vocabulary\"\n",
      "\"word 'наблюдаютсяповышенный' not in vocabulary\"\n",
      "\"word 'адресныйподход' not in vocabulary\"\n",
      "\"word 'неназад' not in vocabulary\"\n",
      "\"word 'нератифицировать' not in vocabulary\"\n",
      "\"word 'метреветь' not in vocabulary\"\n",
      "\"word 'галемзян' not in vocabulary\"\n",
      "\"word 'аппия' not in vocabulary\"\n",
      "\"word 'недорасщепленный' not in vocabulary\"\n",
      "\"word 'венчовать' not in vocabulary\"\n",
      "\"word 'можетслуживать' not in vocabulary\"\n",
      "\"word 'федеральнымизакон' not in vocabulary\"\n",
      "\"word 'иразмножение' not in vocabulary\"\n",
      "\"word 'несчастногомужик' not in vocabulary\"\n",
      "\"word 'кернтерьер' not in vocabulary\"\n",
      "\"word 'сумасшедшийэнтузиаст' not in vocabulary\"\n",
      "\"word 'растериваться' not in vocabulary\"\n",
      "\"word 'хистория' not in vocabulary\"\n",
      "\"word 'сбанковский' not in vocabulary\"\n",
      "\"word 'эмитированнуюамериканский' not in vocabulary\"\n",
      "\"word 'оскорбитьрусскоговорить' not in vocabulary\"\n",
      "\"word 'щих' not in vocabulary\"\n",
      "\"word 'нарезультат' not in vocabulary\"\n",
      "\"word 'прошлитолько' not in vocabulary\"\n",
      "\"word 'бьорндальный' not in vocabulary\"\n",
      "\"word 'сравниватьроссийский' not in vocabulary\"\n",
      "\"word 'россияэкспортировать' not in vocabulary\"\n",
      "\"word 'нефтина' not in vocabulary\"\n",
      "\"word 'интересуетаудитория' not in vocabulary\"\n",
      "\"word 'нашемурекламодатель' not in vocabulary\"\n",
      "\"word 'будетоптимальный' not in vocabulary\"\n",
      "\"word 'онаотличаться' not in vocabulary\"\n",
      "\"word 'илизамороженный' not in vocabulary\"\n",
      "\"word 'иореха' not in vocabulary\"\n",
      "\"word 'готовыепродукты' not in vocabulary\"\n",
      "\"word 'европейскойэкономики' not in vocabulary\"\n",
      "\"word 'мировойэкономики' not in vocabulary\"\n",
      "\"word 'курмышов' not in vocabulary\"\n",
      "\"word 'чзы' not in vocabulary\"\n"
     ]
    }
   ],
   "source": [
    "sentence_counts = []\n",
    "for sentence in final:\n",
    "    left_sum = 0\n",
    "    right_sum = 0\n",
    "    count_l = 0\n",
    "    count_r = 0\n",
    "    ind = 0\n",
    "    for word in sentence:\n",
    "        if word[0] == 'тоесть':\n",
    "            ind = 1\n",
    "            continue\n",
    "        if not ind:\n",
    "            pass\n",
    "            try:\n",
    "                count_l += 1\n",
    "                left_sum += model.wv[word[1]]\n",
    "            except Exception as e:\n",
    "                print(e)\n",
    "        elif ind:\n",
    "            try:\n",
    "                count_r += 1\n",
    "                right_sum += model.wv[word[1]]\n",
    "            except Exception as e:\n",
    "                print(e)\n",
    "    count = (left_sum, right_sum)\n",
    "    sentence_counts.append(count)"
   ]
  },
  {
   "cell_type": "code",
   "execution_count": 22,
   "metadata": {},
   "outputs": [
    {
     "data": {
      "text/plain": [
       "1000"
      ]
     },
     "execution_count": 22,
     "metadata": {},
     "output_type": "execute_result"
    }
   ],
   "source": [
    "len(sentence_counts)"
   ]
  },
  {
   "cell_type": "code",
   "execution_count": 8,
   "metadata": {
    "collapsed": true
   },
   "outputs": [],
   "source": [
    "import numpy as np\n"
   ]
  },
  {
   "cell_type": "code",
   "execution_count": 24,
   "metadata": {
    "collapsed": true
   },
   "outputs": [],
   "source": [
    "def cos(vA, vB):\n",
    "    cos = np.dot(vA, vB) / (np.sqrt(np.dot(vA,vA)) * np.sqrt(np.dot(vB,vB)))\n",
    "    return cos"
   ]
  },
  {
   "cell_type": "code",
   "execution_count": null,
   "metadata": {
    "collapsed": true
   },
   "outputs": [],
   "source": [
    "count = 1\n",
    "sim = []\n",
    "for i in sentence_counts:\n",
    "    try:\n",
    "        sim.append((count, cos(i[0], i[1])))\n",
    "    except Exception as e:\n",
    "        sim.append((count, 0))\n",
    "        print(e)\n",
    "    count += 1"
   ]
  },
  {
   "cell_type": "code",
   "execution_count": null,
   "metadata": {
    "collapsed": true
   },
   "outputs": [],
   "source": [
    "sorted_sim = [x for x in sim if x[1].size == 1]\n",
    "print(len(sorted_sim))\n",
    "sorted_sim = sorted(sorted_sim, key=lambda x: x[1], reverse=True)"
   ]
  },
  {
   "cell_type": "code",
   "execution_count": null,
   "metadata": {
    "collapsed": true
   },
   "outputs": [],
   "source": [
    "with open('part_sim.txt', 'w') as fw:\n",
    "    for i in sorted_sim:\n",
    "        a, b = i\n",
    "        fw.write(str(a) + str(b) + '\\n')"
   ]
  },
  {
   "cell_type": "markdown",
   "metadata": {},
   "source": [
    "## Средние векторы по каждому типу значения"
   ]
  },
  {
   "cell_type": "code",
   "execution_count": 10,
   "metadata": {
    "collapsed": true
   },
   "outputs": [],
   "source": [
    "# Вектор - сумма векторов слов\n",
    "context = [sum(i) for i in sentence_counts]"
   ]
  },
  {
   "cell_type": "code",
   "execution_count": 12,
   "metadata": {
    "collapsed": true
   },
   "outputs": [],
   "source": [
    "# Скачиваем разметку\n",
    "with open('Разметка.txt') as fh:\n",
    "    lines = list(map(lambda l: l.strip(), fh.readlines()))"
   ]
  },
  {
   "cell_type": "code",
   "execution_count": 13,
   "metadata": {
    "collapsed": true
   },
   "outputs": [],
   "source": [
    "from collections import Counter"
   ]
  },
  {
   "cell_type": "code",
   "execution_count": 14,
   "metadata": {},
   "outputs": [
    {
     "data": {
      "text/plain": [
       "Counter({'дискурс': 12,\n",
       "         'дополнение': 82,\n",
       "         'интерпретация': 233,\n",
       "         'коррекция': 40,\n",
       "         'модальность': 2,\n",
       "         'обобщение': 51,\n",
       "         'обр определение': 4,\n",
       "         'определение': 81,\n",
       "         'переспрос': 7,\n",
       "         'переспрос инт': 49,\n",
       "         'переспрос как': 7,\n",
       "         'переформулирование': 108,\n",
       "         'пояснение': 6,\n",
       "         'пример': 8,\n",
       "         'следствие': 257,\n",
       "         'спецификация': 53})"
      ]
     },
     "execution_count": 14,
     "metadata": {},
     "output_type": "execute_result"
    }
   ],
   "source": [
    "unique = Counter(lines)\n",
    "unique"
   ]
  },
  {
   "cell_type": "code",
   "execution_count": 42,
   "metadata": {
    "scrolled": false
   },
   "outputs": [],
   "source": [
    "# Находим средние вектора\n",
    "average = {}\n",
    "for x, y in zip(lines, context):\n",
    "    if x not in average.keys():\n",
    "        average[x] = 0\n",
    "    average[x] += y\n",
    "for name, count in unique.items():\n",
    "    average[name] /= count    "
   ]
  },
  {
   "cell_type": "code",
   "execution_count": 16,
   "metadata": {
    "collapsed": true
   },
   "outputs": [],
   "source": [
    "from pymystem3 import Mystem\n",
    "m = Mystem()"
   ]
  },
  {
   "cell_type": "code",
   "execution_count": 31,
   "metadata": {
    "collapsed": true
   },
   "outputs": [],
   "source": [
    "# Это функция для парсинга предложения\n",
    "def vectorise(item):\n",
    "    item = re.sub('[Тт]о есть', 'тоесть', item)\n",
    "    punctuation = (list(\"\"\",;:”$%^&*№()_—=+!...?|[]{}\\\"/<>`~±§«»°1234567890.\"\"\")\n",
    "               + ['- ', ' -', ' - ', '― ', ' ―', ' ― ', \" '\", \"' \"])\n",
    "    item = item.lower()\n",
    "    for char in punctuation:\n",
    "        item = item.replace(char, ' ')\n",
    "    item = item.strip()\n",
    "    lemmas = m.lemmatize(item)\n",
    "    vector = 0\n",
    "    for word in lemmas:\n",
    "        if word != 'тоедать' and ' ' not in word:\n",
    "            try:\n",
    "                vector+=model.wv[word]\n",
    "            except Exception as e:\n",
    "                print(e)\n",
    "    return vector"
   ]
  },
  {
   "cell_type": "code",
   "execution_count": 32,
   "metadata": {},
   "outputs": [],
   "source": [
    "# Это функция для подсчета близости к типам значения\n",
    "def find_type(sentence):\n",
    "    vector = vectorise(sentence)\n",
    "    types = []\n",
    "    for key in average.keys():\n",
    "        types.append((key, cos(average[key], vector)))\n",
    "    types = sorted(types, reverse=True, key=lambda x: float(x[1]))\n",
    "    return types"
   ]
  },
  {
   "cell_type": "markdown",
   "metadata": {},
   "source": [
    "## Попробуем сравнить ожидания и реальность..."
   ]
  },
  {
   "cell_type": "code",
   "execution_count": 28,
   "metadata": {
    "collapsed": true
   },
   "outputs": [],
   "source": [
    "sentence = 'И здесь соблюдалась полная демократия, то есть картину отбирал по своему вкусу очередной дежурный '"
   ]
  },
  {
   "cell_type": "markdown",
   "metadata": {},
   "source": [
    "Это был пример следствия"
   ]
  },
  {
   "cell_type": "code",
   "execution_count": 30,
   "metadata": {},
   "outputs": [
    {
     "name": "stdout",
     "output_type": "stream",
     "text": [
      "\"word '  ' not in vocabulary\"\n",
      "\"word '\\n' not in vocabulary\"\n"
     ]
    },
    {
     "data": {
      "text/plain": [
       "[('дополнение', 0.5150654),\n",
       " ('переформулирование', 0.49012592),\n",
       " ('пояснение', 0.48408276),\n",
       " ('переспрос инт', 0.47949627),\n",
       " ('обобщение', 0.4521315),\n",
       " ('спецификация', 0.44709846),\n",
       " ('следствие', 0.44098866),\n",
       " ('интерпретация', 0.4382135),\n",
       " ('коррекция', 0.40017185),\n",
       " ('определение', 0.37295192),\n",
       " ('обр определение', 0.36476633),\n",
       " ('дискурс', 0.36423248),\n",
       " ('пример', 0.36344585),\n",
       " ('переспрос как', 0.3363337),\n",
       " ('переспрос', 0.2817622),\n",
       " ('модальность', 0.24421433)]"
      ]
     },
     "execution_count": 30,
     "metadata": {},
     "output_type": "execute_result"
    }
   ],
   "source": [
    "find_type(sentence)"
   ]
  },
  {
   "cell_type": "code",
   "execution_count": 33,
   "metadata": {
    "collapsed": true
   },
   "outputs": [],
   "source": [
    "sentence = 'Очень, очень, очень желает с тобой познакомиться! — Да с какой же стати очень-то? — То есть не то чтобы... видишь, в последнее время, вот как ты заболел, мне часто и много приходилось об тебе поминать... Ну, он слушал... и как узнал, что ты по юридическому и кончить курса не можешь, по обстоятельствам, то сказал: «Как жаль!» Я и заключил... то есть всё это вместе, не одно ведь это; вчера Заметов...'"
   ]
  },
  {
   "cell_type": "markdown",
   "metadata": {},
   "source": [
    "А вот тут да, дискурсивное + коррекция"
   ]
  },
  {
   "cell_type": "code",
   "execution_count": 34,
   "metadata": {},
   "outputs": [
    {
     "name": "stdout",
     "output_type": "stream",
     "text": [
      "\"word '\\n' not in vocabulary\"\n"
     ]
    },
    {
     "data": {
      "text/plain": [
       "[('коррекция', 0.8114302),\n",
       " ('переспрос', 0.6984439),\n",
       " ('модальность', 0.6544494),\n",
       " ('дискурс', 0.6502634),\n",
       " ('пояснение', 0.63295966),\n",
       " ('переспрос как', 0.5773925),\n",
       " ('переспрос инт', 0.5027975),\n",
       " ('интерпретация', 0.41054446),\n",
       " ('дополнение', 0.40542364),\n",
       " ('переформулирование', 0.38285533),\n",
       " ('следствие', 0.32364073),\n",
       " ('обобщение', 0.27820936),\n",
       " ('спецификация', 0.22453292),\n",
       " ('обр определение', 0.20840545),\n",
       " ('пример', 0.18345429),\n",
       " ('определение', 0.13942231)]"
      ]
     },
     "execution_count": 34,
     "metadata": {},
     "output_type": "execute_result"
    }
   ],
   "source": [
    "find_type(sentence)"
   ]
  },
  {
   "cell_type": "code",
   "execution_count": 36,
   "metadata": {
    "collapsed": true
   },
   "outputs": [],
   "source": [
    "sentence = 'Не дальше, как сегодня, то есть в субботу, опять со статьей произошло что-то'"
   ]
  },
  {
   "cell_type": "markdown",
   "metadata": {},
   "source": [
    "Дополнение"
   ]
  },
  {
   "cell_type": "code",
   "execution_count": 37,
   "metadata": {},
   "outputs": [
    {
     "name": "stdout",
     "output_type": "stream",
     "text": [
      "\"word '\\n' not in vocabulary\"\n"
     ]
    },
    {
     "data": {
      "text/plain": [
       "[('коррекция', 0.5498068),\n",
       " ('переспрос', 0.41560814),\n",
       " ('дискурс', 0.4116518),\n",
       " ('модальность', 0.4116348),\n",
       " ('пояснение', 0.39525926),\n",
       " ('переспрос как', 0.32113042),\n",
       " ('переспрос инт', 0.2628887),\n",
       " ('интерпретация', 0.22827996),\n",
       " ('дополнение', 0.22050104),\n",
       " ('переформулирование', 0.18724458),\n",
       " ('следствие', 0.14593317),\n",
       " ('обобщение', 0.11832918),\n",
       " ('спецификация', 0.09761625),\n",
       " ('пример', 0.05407716),\n",
       " ('обр определение', 0.032646473),\n",
       " ('определение', 0.023882343)]"
      ]
     },
     "execution_count": 37,
     "metadata": {},
     "output_type": "execute_result"
    }
   ],
   "source": [
    "find_type(sentence)"
   ]
  },
  {
   "cell_type": "code",
   "execution_count": 38,
   "metadata": {
    "collapsed": true
   },
   "outputs": [],
   "source": [
    "sentence = 'Он вникал в глубину этого сравнения и разбирал, что такое другие и что он сам, в какой степени возможна и справедлива эта параллель и как тяжела обида, нанесенная ему Захаром; наконец, сознательно ли оскорбил его Захар, то есть убежден ли он был, что Илья Ильич всё равно, что «другой», или так это сорвалось у него с языка, без участия головы'"
   ]
  },
  {
   "cell_type": "markdown",
   "metadata": {},
   "source": [
    "Интерпретация"
   ]
  },
  {
   "cell_type": "code",
   "execution_count": 39,
   "metadata": {},
   "outputs": [
    {
     "name": "stdout",
     "output_type": "stream",
     "text": [
      "\"word '\\n' not in vocabulary\"\n"
     ]
    },
    {
     "data": {
      "text/plain": [
       "[('коррекция', 0.6776349),\n",
       " ('пояснение', 0.6570716),\n",
       " ('переспрос инт', 0.5828377),\n",
       " ('дискурс', 0.57037467),\n",
       " ('переспрос', 0.5610046),\n",
       " ('модальность', 0.560263),\n",
       " ('дополнение', 0.5536548),\n",
       " ('переформулирование', 0.53951967),\n",
       " ('интерпретация', 0.51508194),\n",
       " ('переспрос как', 0.46494588),\n",
       " ('следствие', 0.46029556),\n",
       " ('обобщение', 0.45438346),\n",
       " ('спецификация', 0.4056137),\n",
       " ('обр определение', 0.36923954),\n",
       " ('определение', 0.3363311),\n",
       " ('пример', 0.3074932)]"
      ]
     },
     "execution_count": 39,
     "metadata": {},
     "output_type": "execute_result"
    }
   ],
   "source": [
    "find_type(sentence)"
   ]
  },
  {
   "cell_type": "code",
   "execution_count": 40,
   "metadata": {
    "collapsed": true
   },
   "outputs": [],
   "source": [
    "sentence = 'Недоверчив, скептик, циник... надувать любит, то есть не надувать, а дурачить...'"
   ]
  },
  {
   "cell_type": "markdown",
   "metadata": {},
   "source": [
    "Коррекция"
   ]
  },
  {
   "cell_type": "code",
   "execution_count": 41,
   "metadata": {},
   "outputs": [
    {
     "name": "stdout",
     "output_type": "stream",
     "text": [
      "\"word '\\n' not in vocabulary\"\n"
     ]
    },
    {
     "data": {
      "text/plain": [
       "[('коррекция', 0.60621417),\n",
       " ('переспрос как', 0.60252357),\n",
       " ('переспрос', 0.55185413),\n",
       " ('дискурс', 0.4498994),\n",
       " ('пояснение', 0.44851378),\n",
       " ('модальность', 0.41822103),\n",
       " ('переспрос инт', 0.34584057),\n",
       " ('дополнение', 0.27641723),\n",
       " ('интерпретация', 0.26756608),\n",
       " ('переформулирование', 0.24063896),\n",
       " ('следствие', 0.20383212),\n",
       " ('обобщение', 0.16916816),\n",
       " ('спецификация', 0.1300575),\n",
       " ('пример', 0.12139918),\n",
       " ('обр определение', 0.11391685),\n",
       " ('определение', 0.05643766)]"
      ]
     },
     "execution_count": 41,
     "metadata": {},
     "output_type": "execute_result"
    }
   ],
   "source": [
    "find_type(sentence)"
   ]
  },
  {
   "cell_type": "code",
   "execution_count": 43,
   "metadata": {
    "collapsed": true
   },
   "outputs": [],
   "source": [
    "sentence = '― Я вечный двигатель изобрел.  ― То есть как? ― спросил Аркадий Максимович Фетисов. '"
   ]
  },
  {
   "cell_type": "markdown",
   "metadata": {},
   "source": [
    "Переспрос как"
   ]
  },
  {
   "cell_type": "code",
   "execution_count": 44,
   "metadata": {},
   "outputs": [
    {
     "name": "stdout",
     "output_type": "stream",
     "text": [
      "\"word '\\n' not in vocabulary\"\n"
     ]
    },
    {
     "data": {
      "text/plain": [
       "[('переспрос как', 0.47556219),\n",
       " ('коррекция', 0.44880027),\n",
       " ('переспрос', 0.38952428),\n",
       " ('дискурс', 0.33589965),\n",
       " ('модальность', 0.31223887),\n",
       " ('пояснение', 0.28923923),\n",
       " ('переспрос инт', 0.18186472),\n",
       " ('дополнение', 0.16484243),\n",
       " ('интерпретация', 0.13822787),\n",
       " ('переформулирование', 0.0980868),\n",
       " ('обобщение', 0.06303097),\n",
       " ('следствие', 0.05465932),\n",
       " ('спецификация', 0.053451985),\n",
       " ('обр определение', 0.004496517),\n",
       " ('определение', -0.029287199),\n",
       " ('пример', -0.033277873)]"
      ]
     },
     "execution_count": 44,
     "metadata": {},
     "output_type": "execute_result"
    }
   ],
   "source": [
    "find_type(sentence)"
   ]
  },
  {
   "cell_type": "code",
   "execution_count": 45,
   "metadata": {
    "collapsed": true
   },
   "outputs": [],
   "source": [
    "sentence = '― У меня было плохое настроение.   ― То есть?   ― Мне показалось, что все уже было… '"
   ]
  },
  {
   "cell_type": "markdown",
   "metadata": {},
   "source": [
    "Переспрос"
   ]
  },
  {
   "cell_type": "code",
   "execution_count": 46,
   "metadata": {},
   "outputs": [
    {
     "name": "stdout",
     "output_type": "stream",
     "text": [
      "\"word '…' not in vocabulary\"\n",
      "\"word '\\n' not in vocabulary\"\n"
     ]
    },
    {
     "data": {
      "text/plain": [
       "[('коррекция', 0.78499514),\n",
       " ('модальность', 0.68834275),\n",
       " ('переспрос', 0.6589),\n",
       " ('дискурс', 0.6487693),\n",
       " ('пояснение', 0.60442305),\n",
       " ('переспрос как', 0.5358318),\n",
       " ('переспрос инт', 0.44571093),\n",
       " ('интерпретация', 0.37431946),\n",
       " ('дополнение', 0.33254984),\n",
       " ('переформулирование', 0.30610272),\n",
       " ('следствие', 0.27309316),\n",
       " ('обобщение', 0.20490374),\n",
       " ('обр определение', 0.15850283),\n",
       " ('спецификация', 0.14296141),\n",
       " ('пример', 0.12569338),\n",
       " ('определение', 0.05054126)]"
      ]
     },
     "execution_count": 46,
     "metadata": {},
     "output_type": "execute_result"
    }
   ],
   "source": [
    "find_type(sentence)"
   ]
  },
  {
   "cell_type": "code",
   "execution_count": null,
   "metadata": {
    "collapsed": true
   },
   "outputs": [],
   "source": []
  }
 ],
 "metadata": {
  "kernelspec": {
   "display_name": "Python 3",
   "language": "python",
   "name": "python3"
  },
  "language_info": {
   "codemirror_mode": {
    "name": "ipython",
    "version": 3
   },
   "file_extension": ".py",
   "mimetype": "text/x-python",
   "name": "python",
   "nbconvert_exporter": "python",
   "pygments_lexer": "ipython3",
   "version": "3.5.2"
  }
 },
 "nbformat": 4,
 "nbformat_minor": 2
}
