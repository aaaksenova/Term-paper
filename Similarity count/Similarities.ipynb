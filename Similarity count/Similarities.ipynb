{
 "cells": [
  {
   "cell_type": "markdown",
   "metadata": {},
   "source": [
    "# Два типа сравнения контекстов"
   ]
  },
  {
   "cell_type": "code",
   "execution_count": 1,
   "metadata": {},
   "outputs": [],
   "source": [
    "import openpyxl\n",
    "import re\n",
    "import pymystem3\n",
    "from nltk.tokenize import word_tokenize\n",
    "from pymystem3 import Mystem\n",
    "import gensim\n",
    "import logging\n",
    "import nltk.data\n",
    "import pandas as pd\n",
    "import urllib.request\n",
    "from bs4 import BeautifulSoup\n",
    "from nltk.corpus import stopwords\n",
    "from gensim.models import word2vec\n",
    "import warnings\n",
    "warnings.filterwarnings('ignore')\n",
    "from sklearn.decomposition import PCA\n",
    "import matplotlib.pyplot as plt\n",
    "%matplotlib inline\n",
    "from nltk.corpus import stopwords"
   ]
  },
  {
   "cell_type": "markdown",
   "metadata": {},
   "source": [
    "## Работа с таблицей по векам"
   ]
  },
  {
   "cell_type": "code",
   "execution_count": 2,
   "metadata": {},
   "outputs": [],
   "source": [
    "wb = openpyxl.load_workbook('/Users/annaaksenova/Desktop/Работа к Кувшинской/То есть выборка по векам.xlsx')\n",
    "sheet = wb['21'] # Имя листа"
   ]
  },
  {
   "cell_type": "code",
   "execution_count": 3,
   "metadata": {},
   "outputs": [],
   "source": [
    "m = Mystem()"
   ]
  },
  {
   "cell_type": "code",
   "execution_count": 4,
   "metadata": {},
   "outputs": [
    {
     "name": "stdout",
     "output_type": "stream",
     "text": [
      "[' Я засунула пластинку и блюдо в один пакет, положила под сиденье и ― надо знать наши самолёты советских времён, лишённые кондиционеров, ― в конце пути в Ереван достала из-под сиденья пластинку, принявшую форму таза, тоесть блюда.   ', ' Само название места происходит от того, что здесь врачевали «косимых» ― тоесть увечных.   ', ' Я даже не могу найти концов, тоесть понять, кто же мне, собственно, должен платить.   ', 'Никаких провокаций ― известные имена-брэнды.  Расчёт на то, что, даже если зритель не шибко приобщён к балету и не знает, кто такая Аньес Летестю, он непременно отреагирует на Opera National de Paris.  Или хотя бы на «Лебединое озеро». Или хотя бы на Paris.  Плюс гарантия качества: звёзды подобраны заслуженные, но при этом, что важно, действующие: спешно доставленные на пароходе прямо из Парижа, поднимешь крышку ― пар! тоесть готовые доказывать свой статус каждым спектаклем.   ', '  «Чтобы не быть выдавленными с рынка, ― говорит академик Алексей Макаров, ― необходимы жесткий расчет экономической эффективности нефтегазовых проектов, контроль затрат по всей цепочке поставок углеводородов, а также правильная оценка возможных рисков, тоесть нужна такая организация бизнес-процессов в отрасли, чтобы перекрывать дорогу чрезмерным затратам».   ', 'Чёткое определение рынков, ориентация на нужды потребителей, координация всех видов маркетинговой деятельности, направленной на удовлетворение потребителей, позволяют компании получать прибыль из создания потребительской ценности и долговременных отношений. тоесть компания отнюдь не должна пытаться дать потребителям абсолютно всё, что они хотят.   ', '  Вика отмерла и начала сбивчиво объяснять про какую-то эсэмэску, которую ей прислала какая-то Лилька и которую, в смысле эсэмэску, необходимо было зачем-то показать директрисе, она и показала, а Лидушка почему-то сразу ей мобильник назад не вернула, а сказала, что вернет его завтра, а назавтра ― это четверг, тоесть позавчера ― Лидушка поперлась с полдня на какое-то совещание, а в пятницу, тоесть вчера, Вика про  мобильник не вспомнила, а потом Лидушку убили.   ', '  Общероссийским классификатором продукции ОК 005-93, утверждённым постановлением Госстандарта России от 30. 12. 1993№ 301 (далее― Классификатор), продукция рыбная, вылов рыбы и других водных биоресурсов (код 989934) отнесены к продукции животноводства, тоесть к сельскохозяйственной продукции.   ', ' Чтобы через много лет люди смотрели на них и вспоминали своих бабушек-дедушек, тоесть нас всех.   ', ' Эти липосомы содержат лиганды к клеточным рецепторам B-клеток (латинская B, «бэ-клетки», они же белые клетки крови ― прим. пресс-службы), тоесть такие молекулы, которые могут взаимодействовать только с определёнными клетками, B-лимфоцитами.   ']\n"
     ]
    }
   ],
   "source": [
    "v1 = []\n",
    "# Собираем примеры из таблицы\n",
    "for v in sheet.iter_rows(min_row=2, min_col=21, max_col=21, max_row=1001, values_only=True):\n",
    "    if v[0] == None:\n",
    "        v1.append('')\n",
    "    else:\n",
    "        v1.append(v[0].replace(u'\\xa0', ' '))\n",
    "v2 = []\n",
    "for v in sheet.iter_rows(min_row=2, min_col=22, max_col=22, max_row=1001, values_only=True):\n",
    "    if v[0] == None:\n",
    "        v2.append('')\n",
    "    else:\n",
    "        item = v[0].replace(u'\\xa0', ' ')\n",
    "        item = re.sub('\\[.+?\\]', '', item)\n",
    "        item = re.sub('[Тт]о есть', 'тоесть', item) # \\b убирает случаи что есть\n",
    "        v2.append(item)\n",
    "values = [v1[i]+v2[i] for i in range(1000)]\n",
    "print(values[:10])"
   ]
  },
  {
   "cell_type": "code",
   "execution_count": 5,
   "metadata": {},
   "outputs": [],
   "source": [
    "tagged_corp = []\n",
    "for sentence in values:\n",
    "    ana = m.analyze(sentence)\n",
    "    tagged_corp.append(ana)"
   ]
  },
  {
   "cell_type": "code",
   "execution_count": 12,
   "metadata": {},
   "outputs": [],
   "source": [
    "final = []\n",
    "count = 1\n",
    "for sent in tagged_corp:\n",
    "    sentence = []\n",
    "    for word in sent:\n",
    "        if 'analysis' in word and word['analysis'] != []:\n",
    "            gr = word['analysis'][0]['gr']\n",
    "            pos = gr.split('=')[0].split(',')[0]\n",
    "            lex = word['analysis'][0]['lex']\n",
    "            token = word['text']\n",
    "            if pos == 'V' or pos == 'S' or pos == 'A' or pos == 'ADV':\n",
    "                sentence.append((token, lex, pos))\n",
    "    if sentence == []:\n",
    "        print(sent)\n",
    "        print(count)\n",
    "    else:\n",
    "        final.append(sentence)\n",
    "    count+=1"
   ]
  },
  {
   "cell_type": "code",
   "execution_count": 8,
   "metadata": {},
   "outputs": [
    {
     "data": {
      "text/plain": [
       "[[('засунула', 'засовывать', 'V'),\n",
       "  ('пластинку', 'пластинка', 'S'),\n",
       "  ('блюдо', 'блюдо', 'S'),\n",
       "  ('пакет', 'пакет', 'S'),\n",
       "  ('положила', 'полагать', 'V'),\n",
       "  ('сиденье', 'сидение', 'S'),\n",
       "  ('надо', 'надо', 'ADV'),\n",
       "  ('знать', 'знать', 'V'),\n",
       "  ('самолёты', 'самолет', 'S'),\n",
       "  ('советских', 'советский', 'A'),\n",
       "  ('времён', 'время', 'S'),\n",
       "  ('лишённые', 'лишать', 'V'),\n",
       "  ('кондиционеров', 'кондиционер', 'S'),\n",
       "  ('конце', 'конец', 'S'),\n",
       "  ('пути', 'путь', 'S'),\n",
       "  ('Ереван', 'ереван', 'S'),\n",
       "  ('достала', 'доставать', 'V'),\n",
       "  ('сиденья', 'сидение', 'S'),\n",
       "  ('пластинку', 'пластинка', 'S'),\n",
       "  ('принявшую', 'принимать', 'V'),\n",
       "  ('форму', 'форма', 'S'),\n",
       "  ('таза', 'таз', 'S'),\n",
       "  ('тоесть', 'тоедать', 'V'),\n",
       "  ('блюда', 'блюдо', 'S')]]"
      ]
     },
     "execution_count": 8,
     "metadata": {},
     "output_type": "execute_result"
    }
   ],
   "source": [
    "final[:10]"
   ]
  },
  {
   "cell_type": "code",
   "execution_count": 13,
   "metadata": {},
   "outputs": [
    {
     "data": {
      "text/plain": [
       "1000"
      ]
     },
     "execution_count": 13,
     "metadata": {},
     "output_type": "execute_result"
    }
   ],
   "source": [
    "len(final)"
   ]
  },
  {
   "cell_type": "code",
   "execution_count": 14,
   "metadata": {},
   "outputs": [],
   "source": [
    "with open('sentences.txt', 'w') as fw:\n",
    "    for sentence in final:\n",
    "        for word in sentence:\n",
    "            for part in word:\n",
    "                fw.write(part + ' ')\n",
    "        fw.write('\\n')"
   ]
  },
  {
   "cell_type": "markdown",
   "metadata": {},
   "source": [
    "## Сравнение средних векторов правого и левого контекстов"
   ]
  },
  {
   "cell_type": "markdown",
   "metadata": {},
   "source": [
    "Здесь я брала именно не сумму, а среднее, потому что количество слов разное"
   ]
  },
  {
   "cell_type": "code",
   "execution_count": 15,
   "metadata": {},
   "outputs": [],
   "source": [
    "import re\n",
    "part_sent = []\n",
    "\n",
    "with open('part_sim.txt') as fh: \n",
    "    lines = fh.readlines()\n",
    "for line in lines:\n",
    "    line = line.strip()\n",
    "    number, cos = line.split()\n",
    "    part_sent.append([number, cos])\n"
   ]
  },
  {
   "cell_type": "code",
   "execution_count": 16,
   "metadata": {},
   "outputs": [],
   "source": [
    "wb = openpyxl.load_workbook('/Users/annaaksenova/Desktop/Работа к Кувшинской/То есть выборка по векам.xlsx')\n",
    "sheet = wb['21']\n",
    "for i in part_sent: # для каждой пары номер-косинус вытаскиваем из таблицы разметку\n",
    "    i.append(sheet['Q{}'.format(str(int(i[0])+1))].value)\n",
    "    i.append(sheet['P{}'.format(str(int(i[0])+1))].value)"
   ]
  },
  {
   "cell_type": "code",
   "execution_count": 17,
   "metadata": {},
   "outputs": [],
   "source": [
    "from collections import Counter"
   ]
  },
  {
   "cell_type": "markdown",
   "metadata": {},
   "source": [
    "Сколько примеров каждого типа имеют схожесть контекста > 0.6"
   ]
  },
  {
   "cell_type": "code",
   "execution_count": 18,
   "metadata": {},
   "outputs": [
    {
     "name": "stdout",
     "output_type": "stream",
     "text": [
      "145\n"
     ]
    },
    {
     "data": {
      "text/plain": [
       "Counter({'определение': 12,\n",
       "         'следствие': 51,\n",
       "         'дополнение': 13,\n",
       "         'обобщение': 6,\n",
       "         'спецификация': 9,\n",
       "         'переспрос инт': 7,\n",
       "         'интерпретация': 22,\n",
       "         'переформулирование': 18,\n",
       "         'коррекция': 4,\n",
       "         'пример': 2,\n",
       "         'переспрос как': 1})"
      ]
     },
     "execution_count": 18,
     "metadata": {},
     "output_type": "execute_result"
    }
   ],
   "source": [
    "tags_near = [i[2] for i in part_sent if float(i[1]) > 0.6]\n",
    "tags_near_common = Counter(tags_near)\n",
    "print(len(tags_near))\n",
    "tags_near_common"
   ]
  },
  {
   "cell_type": "markdown",
   "metadata": {},
   "source": [
    "Сколько примеров каждого типа имеют схожесть контекста < 0.4"
   ]
  },
  {
   "cell_type": "code",
   "execution_count": 19,
   "metadata": {},
   "outputs": [
    {
     "name": "stdout",
     "output_type": "stream",
     "text": [
      "520\n"
     ]
    },
    {
     "data": {
      "text/plain": [
       "Counter({'переформулирование': 64,\n",
       "         'интерпретация': 136,\n",
       "         'следствие': 113,\n",
       "         'дополнение': 43,\n",
       "         'обобщение': 22,\n",
       "         'определение': 35,\n",
       "         'переспрос инт': 27,\n",
       "         'спецификация': 33,\n",
       "         'переспрос': 7,\n",
       "         'коррекция': 19,\n",
       "         'обр определение': 3,\n",
       "         'дискурс': 9,\n",
       "         'модальность': 1,\n",
       "         'пример': 4,\n",
       "         'переспрос как': 4})"
      ]
     },
     "execution_count": 19,
     "metadata": {},
     "output_type": "execute_result"
    }
   ],
   "source": [
    "tags_far = [i[2] for i in part_sent if float(i[1]) < 0.4]\n",
    "tags_far_common = Counter(tags_far)\n",
    "print(len(tags_far))\n",
    "tags_far_common"
   ]
  },
  {
   "cell_type": "code",
   "execution_count": 20,
   "metadata": {},
   "outputs": [
    {
     "data": {
      "text/plain": [
       "[['292', '0.8937959', 'определение', 1],\n",
       " ['215', '0.8420358', 'следствие', 2],\n",
       " ['301', '0.83674455', 'дополнение', 2],\n",
       " ['557', '0.8298659', 'следствие', 2],\n",
       " ['953', '0.81978774', 'следствие', 2],\n",
       " ['62', '0.81574357', 'обобщение', 2],\n",
       " ['505', '0.8127927', 'спецификация', 2],\n",
       " ['838', '0.8119556', 'следствие', 2],\n",
       " ['365', '0.8048143', 'следствие', 2],\n",
       " ['598', '0.80335826', 'определение', 1]]"
      ]
     },
     "execution_count": 20,
     "metadata": {},
     "output_type": "execute_result"
    }
   ],
   "source": [
    "part_sent[:10]"
   ]
  },
  {
   "cell_type": "markdown",
   "metadata": {},
   "source": [
    "Считаем медианы близости для каждого типа значений"
   ]
  },
  {
   "cell_type": "code",
   "execution_count": 21,
   "metadata": {},
   "outputs": [],
   "source": [
    "import numpy as np"
   ]
  },
  {
   "cell_type": "code",
   "execution_count": 22,
   "metadata": {},
   "outputs": [],
   "source": [
    "medians = {}\n",
    "for x in part_sent:\n",
    "    if x[2] not in medians.keys():\n",
    "        medians[x[2]] = []\n",
    "    medians[x[2]].append(float(x[1]))\n",
    "for meaning, sim in medians.items():\n",
    "    medians[meaning] = np.median(sim)"
   ]
  },
  {
   "cell_type": "code",
   "execution_count": 23,
   "metadata": {},
   "outputs": [
    {
     "data": {
      "text/plain": [
       "{'определение': 0.432113,\n",
       " 'следствие': 0.43812629000000003,\n",
       " 'дополнение': 0.39248097,\n",
       " 'обобщение': 0.41474432,\n",
       " 'спецификация': 0.35622537,\n",
       " 'переспрос инт': 0.38275018,\n",
       " 'интерпретация': 0.37294193,\n",
       " 'переформулирование': 0.36548322,\n",
       " 'коррекция': 0.40758401499999997,\n",
       " 'пример': 0.373233,\n",
       " 'переспрос как': 0.29097784,\n",
       " 'дискурс': 0.17193993,\n",
       " 'модальность': 0.41158122,\n",
       " 'обр определение': 0.3304534,\n",
       " 'переспрос': 0.21245712}"
      ]
     },
     "execution_count": 23,
     "metadata": {},
     "output_type": "execute_result"
    }
   ],
   "source": [
    "medians"
   ]
  },
  {
   "cell_type": "markdown",
   "metadata": {},
   "source": [
    "## Медианы попарной близости"
   ]
  },
  {
   "cell_type": "markdown",
   "metadata": {},
   "source": [
    "Здесь я проделала то же самое, только выбрала самые похожие слова. Я работала с векторами на сервере, а потом выкачала только близость"
   ]
  },
  {
   "cell_type": "code",
   "execution_count": 26,
   "metadata": {},
   "outputs": [],
   "source": [
    "with open('word_sim.txt') as fh:\n",
    "    cos = [[float(i.strip())] for i in fh.readlines()]"
   ]
  },
  {
   "cell_type": "code",
   "execution_count": 27,
   "metadata": {},
   "outputs": [],
   "source": [
    "wb = openpyxl.load_workbook('/Users/annaaksenova/Desktop/Работа к Кувшинской/То есть выборка по векам.xlsx')\n",
    "sheet = wb['21']\n",
    "for i in range(len(cos)): # для каждой пары номер-косинус берем из таблицы разметку\n",
    "    cos[i].append(sheet['Q{}'.format(str(i+2))].value)"
   ]
  },
  {
   "cell_type": "code",
   "execution_count": 28,
   "metadata": {},
   "outputs": [],
   "source": [
    "medians_words = {}\n",
    "for x in cos:\n",
    "    if x[1] not in medians_words.keys():\n",
    "        medians_words[x[1]] = []\n",
    "    medians_words[x[1]].append(float(x[0]))\n",
    "for meaning, sim in medians_words.items():\n",
    "    medians_words[meaning] = np.median(sim)"
   ]
  },
  {
   "cell_type": "code",
   "execution_count": 29,
   "metadata": {},
   "outputs": [
    {
     "data": {
      "text/plain": [
       "{'коррекция': 1.0,\n",
       " 'определение': 0.5928247,\n",
       " 'интерпретация': 0.5599262300000001,\n",
       " 'следствие': 0.76763475,\n",
       " 'дополнение': 0.6419779,\n",
       " 'переспрос как': 0.28707352,\n",
       " 'переформулирование': 0.5536154,\n",
       " 'переспрос инт': 0.64760023,\n",
       " 'спецификация': 0.55591154,\n",
       " 'пример': 0.487336125,\n",
       " 'модальность': 1.0000001,\n",
       " 'обобщение': 0.61480975,\n",
       " 'дискурс': 0.327046635,\n",
       " 'переспрос': 0.33812416,\n",
       " 'обр определение': 0.3905912}"
      ]
     },
     "execution_count": 29,
     "metadata": {},
     "output_type": "execute_result"
    }
   ],
   "source": [
    "medians_words"
   ]
  },
  {
   "cell_type": "code",
   "execution_count": 30,
   "metadata": {},
   "outputs": [],
   "source": [
    "sorter = [(key, value) for key,value in medians_words.items()]"
   ]
  },
  {
   "cell_type": "code",
   "execution_count": 31,
   "metadata": {},
   "outputs": [
    {
     "data": {
      "text/plain": [
       "[('модальность', 1.0000001),\n",
       " ('коррекция', 1.0),\n",
       " ('следствие', 0.76763475),\n",
       " ('переспрос инт', 0.64760023),\n",
       " ('дополнение', 0.6419779),\n",
       " ('обобщение', 0.61480975),\n",
       " ('определение', 0.5928247),\n",
       " ('интерпретация', 0.5599262300000001),\n",
       " ('спецификация', 0.55591154),\n",
       " ('переформулирование', 0.5536154),\n",
       " ('пример', 0.487336125),\n",
       " ('обр определение', 0.3905912),\n",
       " ('переспрос', 0.33812416),\n",
       " ('дискурс', 0.327046635),\n",
       " ('переспрос как', 0.28707352)]"
      ]
     },
     "execution_count": 31,
     "metadata": {},
     "output_type": "execute_result"
    }
   ],
   "source": [
    "sorted(sorter, reverse=True, key = lambda x: x[1])"
   ]
  },
  {
   "cell_type": "code",
   "execution_count": null,
   "metadata": {},
   "outputs": [],
   "source": []
  }
 ],
 "metadata": {
  "kernelspec": {
   "display_name": "Python 3",
   "language": "python",
   "name": "python3"
  },
  "language_info": {
   "codemirror_mode": {
    "name": "ipython",
    "version": 3
   },
   "file_extension": ".py",
   "mimetype": "text/x-python",
   "name": "python",
   "nbconvert_exporter": "python",
   "pygments_lexer": "ipython3",
   "version": "3.6.8"
  }
 },
 "nbformat": 4,
 "nbformat_minor": 2
}
