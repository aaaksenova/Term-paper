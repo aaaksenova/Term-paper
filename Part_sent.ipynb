{
 "cells": [
  {
   "cell_type": "markdown",
   "metadata": {},
   "source": [
    "# Дистрибутивный анализ *то есть*"
   ]
  },
  {
   "cell_type": "code",
   "execution_count": 2,
   "metadata": {},
   "outputs": [],
   "source": [
    "import openpyxl\n",
    "import re\n",
    "import pymystem3\n",
    "from nltk.tokenize import word_tokenize\n",
    "from pymystem3 import Mystem\n",
    "import gensim\n",
    "import logging\n",
    "import nltk.data\n",
    "import pandas as pd\n",
    "import urllib.request\n",
    "from bs4 import BeautifulSoup\n",
    "from nltk.corpus import stopwords\n",
    "from gensim.models import word2vec\n",
    "import warnings\n",
    "warnings.filterwarnings('ignore')\n",
    "from sklearn.decomposition import PCA\n",
    "import matplotlib.pyplot as plt\n",
    "%matplotlib inline\n",
    "from nltk.corpus import stopwords"
   ]
  },
  {
   "cell_type": "markdown",
   "metadata": {},
   "source": [
    "## Работа с таблицей по векам"
   ]
  },
  {
   "cell_type": "code",
   "execution_count": 10,
   "metadata": {},
   "outputs": [],
   "source": [
    "wb = openpyxl.load_workbook('/Users/annaaksenova/Desktop/Работа к Кувшинской/То есть выборка по векам.xlsx')\n",
    "sheet = wb['21'] # Имя листа"
   ]
  },
  {
   "cell_type": "code",
   "execution_count": 11,
   "metadata": {},
   "outputs": [],
   "source": [
    "m = Mystem()"
   ]
  },
  {
   "cell_type": "code",
   "execution_count": 12,
   "metadata": {},
   "outputs": [
    {
     "name": "stdout",
     "output_type": "stream",
     "text": [
      "[' Я засунула пластинку и блюдо в один пакет, положила под сиденье и ― надо знать наши самолёты советских времён, лишённые кондиционеров, ― в конце пути в Ереван достала из-под сиденья пластинку, принявшую форму таза, тоесть блюда.   ', ' Само название места происходит от того, что здесь врачевали «косимых» ― тоесть увечных.   ', ' Я даже не могу найти концов, тоесть понять, кто же мне, собственно, должен платить.   ', 'Никаких провокаций ― известные имена-брэнды.  Расчёт на то, что, даже если зритель не шибко приобщён к балету и не знает, кто такая Аньес Летестю, он непременно отреагирует на Opera National de Paris.  Или хотя бы на «Лебединое озеро». Или хотя бы на Paris.  Плюс гарантия качества: звёзды подобраны заслуженные, но при этом, что важно, действующие: спешно доставленные на пароходе прямо из Парижа, поднимешь крышку ― пар! тоесть готовые доказывать свой статус каждым спектаклем.   ', '  «Чтобы не быть выдавленными с рынка, ― говорит академик Алексей Макаров, ― необходимы жесткий расчет экономической эффективности нефтегазовых проектов, контроль затрат по всей цепочке поставок углеводородов, а также правильная оценка возможных рисков, тоесть нужна такая организация бизнес-процессов в отрасли, чтобы перекрывать дорогу чрезмерным затратам».   ', 'Чёткое определение рынков, ориентация на нужды потребителей, координация всех видов маркетинговой деятельности, направленной на удовлетворение потребителей, позволяют компании получать прибыль из создания потребительской ценности и долговременных отношений. тоесть компания отнюдь не должна пытаться дать потребителям абсолютно всё, что они хотят.   ', '  Вика отмерла и начала сбивчиво объяснять про какую-то эсэмэску, которую ей прислала какая-то Лилька и которую, в смысле эсэмэску, необходимо было зачем-то показать директрисе, она и показала, а Лидушка почему-то сразу ей мобильник назад не вернула, а сказала, что вернет его завтра, а назавтра ― это четверг, тоесть позавчера ― Лидушка поперлась с полдня на какое-то совещание, а в пятницу, тоесть вчера, Вика про  мобильник не вспомнила, а потом Лидушку убили.   ', '  Общероссийским классификатором продукции ОК 005-93, утверждённым постановлением Госстандарта России от 30. 12. 1993№ 301 (далее― Классификатор), продукция рыбная, вылов рыбы и других водных биоресурсов (код 989934) отнесены к продукции животноводства, тоесть к сельскохозяйственной продукции.   ', ' Чтобы через много лет люди смотрели на них и вспоминали своих бабушек-дедушек, тоесть нас всех.   ', ' Эти липосомы содержат лиганды к клеточным рецепторам B-клеток (латинская B, «бэ-клетки», они же белые клетки крови ― прим. пресс-службы), тоесть такие молекулы, которые могут взаимодействовать только с определёнными клетками, B-лимфоцитами.   ']\n"
     ]
    }
   ],
   "source": [
    "v1 = []\n",
    "# Собираем примеры из таблицы\n",
    "for v in sheet.iter_rows(min_row=2, min_col=21, max_col=21, max_row=1001, values_only=True):\n",
    "    if v[0] == None:\n",
    "        v1.append('')\n",
    "    else:\n",
    "        v1.append(v[0].replace(u'\\xa0', ' '))\n",
    "v2 = []\n",
    "for v in sheet.iter_rows(min_row=2, min_col=22, max_col=22, max_row=1001, values_only=True):\n",
    "    if v[0] == None:\n",
    "        v2.append('')\n",
    "    else:\n",
    "        item = v[0].replace(u'\\xa0', ' ')\n",
    "        item = re.sub('\\[.+?\\]', '', item)\n",
    "        item = re.sub('[Тт]о есть', 'тоесть', item) # \\b убирает случаи что есть\n",
    "        v2.append(item)\n",
    "values = [v1[i]+v2[i] for i in range(1000)]\n",
    "print(values[:10])"
   ]
  },
  {
   "cell_type": "code",
   "execution_count": 13,
   "metadata": {},
   "outputs": [],
   "source": [
    "tagged_corp = []\n",
    "for sentence in values:\n",
    "    ana = m.analyze(sentence)\n",
    "    tagged_corp.append(ana)"
   ]
  },
  {
   "cell_type": "code",
   "execution_count": 14,
   "metadata": {},
   "outputs": [
    {
     "name": "stdout",
     "output_type": "stream",
     "text": [
      "1000\n"
     ]
    }
   ],
   "source": [
    "print(len(tagged_corp))"
   ]
  },
  {
   "cell_type": "code",
   "execution_count": 15,
   "metadata": {},
   "outputs": [],
   "source": [
    "final = []\n",
    "count = 1\n",
    "for sent in tagged_corp:\n",
    "    sentence = []\n",
    "    for word in sent:\n",
    "        if 'analysis' in word and word['analysis'] != []:\n",
    "            gr = word['analysis'][0]['gr']\n",
    "            pos = gr.split('=')[0].split(',')[0]\n",
    "            lex = word['analysis'][0]['lex']\n",
    "            token = word['text']\n",
    "            if pos == 'V' or pos == 'S' or pos == 'A' or pos == 'ADV':\n",
    "                sentence.append((token, lex, pos))\n",
    "    if sentence == []:\n",
    "        print(sent)\n",
    "        print(count)\n",
    "    else:\n",
    "        final.append(sentence)\n",
    "    count+=1"
   ]
  },
  {
   "cell_type": "code",
   "execution_count": 16,
   "metadata": {},
   "outputs": [],
   "source": [
    "with open('sentences.txt', 'w') as fw:\n",
    "    for sentence in final:\n",
    "        for word in sentence:\n",
    "            for part in word:\n",
    "                fw.write(part + ' ')\n",
    "        fw.write('\\n')"
   ]
  },
  {
   "cell_type": "code",
   "execution_count": null,
   "metadata": {},
   "outputs": [],
   "source": [
    "sentence_counts = []\n",
    "for sentence in final:\n",
    "    left_sum = 0\n",
    "    right_sum = 0\n",
    "    count_l = 0\n",
    "    count_r = 0\n",
    "    ind = 0 # индикатор было ли вхождение то есть\n",
    "    for word in sentence:\n",
    "        if word[0] == 'тоесть':\n",
    "            ind = 1\n",
    "        if not ind:\n",
    "            count_l += 1\n",
    "            left_sum += ?? # тут вектор слова\n",
    "        elif ind:\n",
    "            count_r += 1\n",
    "            left_sum += ?? # тут вектор слова\n",
    "        \n",
    "    count = (left_sum, right_sum)\n",
    "    sentence_counts.append(count)"
   ]
  },
  {
   "cell_type": "code",
   "execution_count": 17,
   "metadata": {},
   "outputs": [],
   "source": [
    "import re\n",
    "part_sent = []\n",
    "\n",
    "# тут я немного криво сохранила текстовый файл с сервера, просто считываю данные номер предложения + косинус\n",
    "# при этом я выкинула примеры, где вектор хотябы одного контекста nan\n",
    "with open('part_sim.txt') as fh: \n",
    "    lines = fh.readlines()\n",
    "for line in lines:\n",
    "    line = line.strip()\n",
    "    a = re.search(r'([0-9]+)(-?0\\.[0-9]+)', line)\n",
    "    number = a.group(1)\n",
    "    cos = a.group(2)\n",
    "    part_sent.append([number, cos])\n"
   ]
  },
  {
   "cell_type": "code",
   "execution_count": 18,
   "metadata": {},
   "outputs": [],
   "source": [
    "wb = openpyxl.load_workbook('/Users/annaaksenova/Desktop/Работа к Кувшинской/То есть выборка по векам.xlsx')\n",
    "sheet = wb['21']\n",
    "for i in part_sent: # для каждой пары номер-косинус вытаскиваем из таблицы разметку\n",
    "    i.append(sheet['Q{}'.format(str(int(i[0])+1))].value)\n",
    "    i.append(sheet['P{}'.format(str(int(i[0])+1))].value)"
   ]
  },
  {
   "cell_type": "code",
   "execution_count": 21,
   "metadata": {},
   "outputs": [],
   "source": [
    "from collections import Counter"
   ]
  },
  {
   "cell_type": "code",
   "execution_count": 40,
   "metadata": {},
   "outputs": [
    {
     "name": "stdout",
     "output_type": "stream",
     "text": [
      "141\n"
     ]
    },
    {
     "data": {
      "text/plain": [
       "Counter({'определение': 12,\n",
       "         'следствие': 49,\n",
       "         'дополнение': 14,\n",
       "         'спецификация': 9,\n",
       "         'обобщение': 6,\n",
       "         'переспрос инт': 5,\n",
       "         'интерпретация': 22,\n",
       "         'переформулирование': 17,\n",
       "         'коррекция': 4,\n",
       "         'пример': 2,\n",
       "         'переспрос как': 1})"
      ]
     },
     "execution_count": 40,
     "metadata": {},
     "output_type": "execute_result"
    }
   ],
   "source": [
    "tags_near = [i[2] for i in part_sent if float(i[1]) > 0.6]\n",
    "tags_near_common = Counter(tags_near)\n",
    "print(len(tags_near))\n",
    "tags_near_common"
   ]
  },
  {
   "cell_type": "code",
   "execution_count": 42,
   "metadata": {},
   "outputs": [
    {
     "name": "stdout",
     "output_type": "stream",
     "text": [
      "504\n"
     ]
    },
    {
     "data": {
      "text/plain": [
       "Counter({'переформулирование': 62,\n",
       "         'интерпретация': 132,\n",
       "         'обобщение': 23,\n",
       "         'следствие': 110,\n",
       "         'переспрос инт': 27,\n",
       "         'дополнение': 40,\n",
       "         'определение': 35,\n",
       "         'спецификация': 30,\n",
       "         'переспрос': 5,\n",
       "         'коррекция': 18,\n",
       "         'обр определение': 3,\n",
       "         'дискурс': 7,\n",
       "         'переспрос как': 2,\n",
       "         'пояснение': 5,\n",
       "         'модальность': 1,\n",
       "         'пример': 4})"
      ]
     },
     "execution_count": 42,
     "metadata": {},
     "output_type": "execute_result"
    }
   ],
   "source": [
    "tags_far = [i[2] for i in part_sent if float(i[1]) < 0.4]\n",
    "tags_far_common = Counter(tags_far)\n",
    "print(len(tags_far))\n",
    "tags_far_common"
   ]
  }
 ],
 "metadata": {
  "kernelspec": {
   "display_name": "Python 3",
   "language": "python",
   "name": "python3"
  },
  "language_info": {
   "codemirror_mode": {
    "name": "ipython",
    "version": 3
   },
   "file_extension": ".py",
   "mimetype": "text/x-python",
   "name": "python",
   "nbconvert_exporter": "python",
   "pygments_lexer": "ipython3",
   "version": "3.6.8"
  }
 },
 "nbformat": 4,
 "nbformat_minor": 2
}
